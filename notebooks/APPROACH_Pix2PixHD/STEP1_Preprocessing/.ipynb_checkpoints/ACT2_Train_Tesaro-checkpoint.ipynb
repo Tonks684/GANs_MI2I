{
 "cells": [
  {
   "cell_type": "markdown",
   "metadata": {},
   "source": [
    "# Training\n",
    "\n",
    "Having successfully moved the dataset into the required location and format you are now ready to begin training of the model. This notebook is used to define the hyper-paramters neceassary for training the Pix2PixHD GAN model as well as scheduling the training within HPC environment. "
   ]
  },
  {
   "cell_type": "markdown",
   "metadata": {},
   "source": [
    "### Load libraries and helper functions"
   ]
  },
  {
   "cell_type": "code",
   "execution_count": 2,
   "metadata": {},
   "outputs": [],
   "source": [
    "import os \n",
    "import sys\n",
    "\n",
    "\n",
    "root_dir = '../../../'\n",
    "sys.path.append(root_dir)\n",
    "\n",
    "from slurm.commands import train_pix2pixHD\n",
    "from slurm.sbatch import submit_array"
   ]
  },
  {
   "cell_type": "code",
   "execution_count": null,
   "metadata": {},
   "outputs": [],
   "source": [
    "\n"
   ]
  },
  {
   "cell_type": "code",
   "execution_count": 17,
   "metadata": {},
   "outputs": [
    {
     "name": "stdout",
     "output_type": "stream",
     "text": [
      "python /hpc/projects/upt/samuel_tonks_experimental_space/repos/gskgithub/virtual_staining/source_code/pix2pixHD_n/train_tesaro.py --dataroot /hpc/projects/upt/samuel_tonks_experimental_space/datasets/Tesaro-DNA-Damage/Data/Breast/Step1_Preprocessing/ACT1_Normalise/bf_dna_30k_toxic/ --data_type 16 --batchSize 4 --checkpoints_dir /hpc/projects/upt/samuel_tonks_experimental_space/experiments/Tesaro-DNA-Damage/cuong_group_experiments/ACT2_Train/bf_dna_30k_toxic_breast_seed42 --label_nc 0 --name bf_dna_30k_toxic_breast_seed42 --no_instance  --resize_or_crop none --input_nc 1 --output_nc 1 --seed 42 --nThreads 1 --gpu_ids 0 --loadSize 1080 --norm instance --use_dropout  \n",
      "python /hpc/projects/upt/samuel_tonks_experimental_space/repos/gskgithub/virtual_staining/source_code/pix2pixHD_n/train_tesaro.py --dataroot /hpc/projects/upt/samuel_tonks_experimental_space/datasets/Tesaro-DNA-Damage/Data/Breast/Step1_Preprocessing/ACT1_Normalise/bf_dna_30k_toxic/ --data_type 16 --batchSize 4 --checkpoints_dir /hpc/projects/upt/samuel_tonks_experimental_space/experiments/Tesaro-DNA-Damage/cuong_group_experiments/ACT2_Train/bf_dna_30k_toxic_breast_seed123 --label_nc 0 --name bf_dna_30k_toxic_breast_seed123 --no_instance  --resize_or_crop none --input_nc 1 --output_nc 1 --seed 123 --nThreads 1 --gpu_ids 0 --loadSize 1080 --norm instance --use_dropout  \n",
      "python /hpc/projects/upt/samuel_tonks_experimental_space/repos/gskgithub/virtual_staining/source_code/pix2pixHD_n/train_tesaro.py --dataroot /hpc/projects/upt/samuel_tonks_experimental_space/datasets/Tesaro-DNA-Damage/Data/Lung/Step1_Preprocessing/ACT1_Normalise/bf_dna_30k_toxic/ --data_type 16 --batchSize 4 --checkpoints_dir /hpc/projects/upt/samuel_tonks_experimental_space/experiments/Tesaro-DNA-Damage/cuong_group_experiments/ACT2_Train/bf_dna_30k_toxic_lung_seed42 --label_nc 0 --name bf_dna_30k_toxic_lung_seed42 --no_instance  --resize_or_crop none --input_nc 1 --output_nc 1 --seed 42 --nThreads 1 --gpu_ids 0 --loadSize 1080 --norm instance --use_dropout  \n",
      "python /hpc/projects/upt/samuel_tonks_experimental_space/repos/gskgithub/virtual_staining/source_code/pix2pixHD_n/train_tesaro.py --dataroot /hpc/projects/upt/samuel_tonks_experimental_space/datasets/Tesaro-DNA-Damage/Data/Lung/Step1_Preprocessing/ACT1_Normalise/bf_dna_30k_toxic/ --data_type 16 --batchSize 4 --checkpoints_dir /hpc/projects/upt/samuel_tonks_experimental_space/experiments/Tesaro-DNA-Damage/cuong_group_experiments/ACT2_Train/bf_dna_30k_toxic_lung_seed123 --label_nc 0 --name bf_dna_30k_toxic_lung_seed123 --no_instance  --resize_or_crop none --input_nc 1 --output_nc 1 --seed 123 --nThreads 1 --gpu_ids 0 --loadSize 1080 --norm instance --use_dropout  \n",
      "python /hpc/projects/upt/samuel_tonks_experimental_space/repos/gskgithub/virtual_staining/source_code/pix2pixHD_n/train_tesaro.py --dataroot /hpc/projects/upt/samuel_tonks_experimental_space/datasets/Tesaro-DNA-Damage/Data/Ovarian/Step1_Preprocessing/ACT1_Normalise/bf_dna_30k_toxic/ --data_type 16 --batchSize 4 --checkpoints_dir /hpc/projects/upt/samuel_tonks_experimental_space/experiments/Tesaro-DNA-Damage/cuong_group_experiments/ACT2_Train/bf_dna_30k_toxic_ovarian_seed42 --label_nc 0 --name bf_dna_30k_toxic_ovarian_seed42 --no_instance  --resize_or_crop none --input_nc 1 --output_nc 1 --seed 42 --nThreads 1 --gpu_ids 0 --loadSize 1080 --norm instance --use_dropout  \n",
      "python /hpc/projects/upt/samuel_tonks_experimental_space/repos/gskgithub/virtual_staining/source_code/pix2pixHD_n/train_tesaro.py --dataroot /hpc/projects/upt/samuel_tonks_experimental_space/datasets/Tesaro-DNA-Damage/Data/Ovarian/Step1_Preprocessing/ACT1_Normalise/bf_dna_30k_toxic/ --data_type 16 --batchSize 4 --checkpoints_dir /hpc/projects/upt/samuel_tonks_experimental_space/experiments/Tesaro-DNA-Damage/cuong_group_experiments/ACT2_Train/bf_dna_30k_toxic_ovarian_seed123 --label_nc 0 --name bf_dna_30k_toxic_ovarian_seed123 --no_instance  --resize_or_crop none --input_nc 1 --output_nc 1 --seed 123 --nThreads 1 --gpu_ids 0 --loadSize 1080 --norm instance --use_dropout  \n",
      "python /hpc/projects/upt/samuel_tonks_experimental_space/repos/gskgithub/virtual_staining/source_code/pix2pixHD_n/train_tesaro.py --dataroot /hpc/projects/upt/samuel_tonks_experimental_space/datasets/Tesaro-DNA-Damage/Data/Breast/Step1_Preprocessing/ACT1_Normalise/bf_cy5_30k_toxic/ --data_type 16 --batchSize 4 --checkpoints_dir /hpc/projects/upt/samuel_tonks_experimental_space/experiments/Tesaro-DNA-Damage/cuong_group_experiments/ACT2_Train/bf_cy5_30k_toxic_breast_seed42 --label_nc 0 --name bf_cy5_30k_toxic_breast_seed42 --no_instance  --resize_or_crop none --input_nc 1 --output_nc 1 --seed 42 --nThreads 1 --gpu_ids 0 --loadSize 1080 --norm instance --use_dropout  \n",
      "python /hpc/projects/upt/samuel_tonks_experimental_space/repos/gskgithub/virtual_staining/source_code/pix2pixHD_n/train_tesaro.py --dataroot /hpc/projects/upt/samuel_tonks_experimental_space/datasets/Tesaro-DNA-Damage/Data/Breast/Step1_Preprocessing/ACT1_Normalise/bf_cy5_30k_toxic/ --data_type 16 --batchSize 4 --checkpoints_dir /hpc/projects/upt/samuel_tonks_experimental_space/experiments/Tesaro-DNA-Damage/cuong_group_experiments/ACT2_Train/bf_cy5_30k_toxic_breast_seed123 --label_nc 0 --name bf_cy5_30k_toxic_breast_seed123 --no_instance  --resize_or_crop none --input_nc 1 --output_nc 1 --seed 123 --nThreads 1 --gpu_ids 0 --loadSize 1080 --norm instance --use_dropout  \n",
      "python /hpc/projects/upt/samuel_tonks_experimental_space/repos/gskgithub/virtual_staining/source_code/pix2pixHD_n/train_tesaro.py --dataroot /hpc/projects/upt/samuel_tonks_experimental_space/datasets/Tesaro-DNA-Damage/Data/Lung/Step1_Preprocessing/ACT1_Normalise/bf_cy5_30k_toxic/ --data_type 16 --batchSize 4 --checkpoints_dir /hpc/projects/upt/samuel_tonks_experimental_space/experiments/Tesaro-DNA-Damage/cuong_group_experiments/ACT2_Train/bf_cy5_30k_toxic_lung_seed42 --label_nc 0 --name bf_cy5_30k_toxic_lung_seed42 --no_instance  --resize_or_crop none --input_nc 1 --output_nc 1 --seed 42 --nThreads 1 --gpu_ids 0 --loadSize 1080 --norm instance --use_dropout  \n",
      "python /hpc/projects/upt/samuel_tonks_experimental_space/repos/gskgithub/virtual_staining/source_code/pix2pixHD_n/train_tesaro.py --dataroot /hpc/projects/upt/samuel_tonks_experimental_space/datasets/Tesaro-DNA-Damage/Data/Lung/Step1_Preprocessing/ACT1_Normalise/bf_cy5_30k_toxic/ --data_type 16 --batchSize 4 --checkpoints_dir /hpc/projects/upt/samuel_tonks_experimental_space/experiments/Tesaro-DNA-Damage/cuong_group_experiments/ACT2_Train/bf_cy5_30k_toxic_lung_seed123 --label_nc 0 --name bf_cy5_30k_toxic_lung_seed123 --no_instance  --resize_or_crop none --input_nc 1 --output_nc 1 --seed 123 --nThreads 1 --gpu_ids 0 --loadSize 1080 --norm instance --use_dropout  \n",
      "python /hpc/projects/upt/samuel_tonks_experimental_space/repos/gskgithub/virtual_staining/source_code/pix2pixHD_n/train_tesaro.py --dataroot /hpc/projects/upt/samuel_tonks_experimental_space/datasets/Tesaro-DNA-Damage/Data/Ovarian/Step1_Preprocessing/ACT1_Normalise/bf_cy5_30k_toxic/ --data_type 16 --batchSize 4 --checkpoints_dir /hpc/projects/upt/samuel_tonks_experimental_space/experiments/Tesaro-DNA-Damage/cuong_group_experiments/ACT2_Train/bf_cy5_30k_toxic_ovarian_seed42 --label_nc 0 --name bf_cy5_30k_toxic_ovarian_seed42 --no_instance  --resize_or_crop none --input_nc 1 --output_nc 1 --seed 42 --nThreads 1 --gpu_ids 0 --loadSize 1080 --norm instance --use_dropout  \n",
      "python /hpc/projects/upt/samuel_tonks_experimental_space/repos/gskgithub/virtual_staining/source_code/pix2pixHD_n/train_tesaro.py --dataroot /hpc/projects/upt/samuel_tonks_experimental_space/datasets/Tesaro-DNA-Damage/Data/Ovarian/Step1_Preprocessing/ACT1_Normalise/bf_cy5_30k_toxic/ --data_type 16 --batchSize 4 --checkpoints_dir /hpc/projects/upt/samuel_tonks_experimental_space/experiments/Tesaro-DNA-Damage/cuong_group_experiments/ACT2_Train/bf_cy5_30k_toxic_ovarian_seed123 --label_nc 0 --name bf_cy5_30k_toxic_ovarian_seed123 --no_instance  --resize_or_crop none --input_nc 1 --output_nc 1 --seed 123 --nThreads 1 --gpu_ids 0 --loadSize 1080 --norm instance --use_dropout  \n",
      "python /hpc/projects/upt/samuel_tonks_experimental_space/repos/gskgithub/virtual_staining/source_code/pix2pixHD_n/train_tesaro.py --dataroot /hpc/projects/upt/samuel_tonks_experimental_space/datasets/Tesaro-DNA-Damage/Data/Breast/Step1_Preprocessing/ACT1_Normalise/bf_fitc_30k_toxic/ --data_type 16 --batchSize 4 --checkpoints_dir /hpc/projects/upt/samuel_tonks_experimental_space/experiments/Tesaro-DNA-Damage/cuong_group_experiments/ACT2_Train/bf_fitc_30k_toxic_breast_seed42 --label_nc 0 --name bf_fitc_30k_toxic_breast_seed42 --no_instance  --resize_or_crop none --input_nc 1 --output_nc 1 --seed 42 --nThreads 1 --gpu_ids 0 --loadSize 1080 --norm instance --use_dropout  \n",
      "python /hpc/projects/upt/samuel_tonks_experimental_space/repos/gskgithub/virtual_staining/source_code/pix2pixHD_n/train_tesaro.py --dataroot /hpc/projects/upt/samuel_tonks_experimental_space/datasets/Tesaro-DNA-Damage/Data/Breast/Step1_Preprocessing/ACT1_Normalise/bf_fitc_30k_toxic/ --data_type 16 --batchSize 4 --checkpoints_dir /hpc/projects/upt/samuel_tonks_experimental_space/experiments/Tesaro-DNA-Damage/cuong_group_experiments/ACT2_Train/bf_fitc_30k_toxic_breast_seed123 --label_nc 0 --name bf_fitc_30k_toxic_breast_seed123 --no_instance  --resize_or_crop none --input_nc 1 --output_nc 1 --seed 123 --nThreads 1 --gpu_ids 0 --loadSize 1080 --norm instance --use_dropout  \n",
      "python /hpc/projects/upt/samuel_tonks_experimental_space/repos/gskgithub/virtual_staining/source_code/pix2pixHD_n/train_tesaro.py --dataroot /hpc/projects/upt/samuel_tonks_experimental_space/datasets/Tesaro-DNA-Damage/Data/Lung/Step1_Preprocessing/ACT1_Normalise/bf_fitc_30k_toxic/ --data_type 16 --batchSize 4 --checkpoints_dir /hpc/projects/upt/samuel_tonks_experimental_space/experiments/Tesaro-DNA-Damage/cuong_group_experiments/ACT2_Train/bf_fitc_30k_toxic_lung_seed42 --label_nc 0 --name bf_fitc_30k_toxic_lung_seed42 --no_instance  --resize_or_crop none --input_nc 1 --output_nc 1 --seed 42 --nThreads 1 --gpu_ids 0 --loadSize 1080 --norm instance --use_dropout  \n",
      "python /hpc/projects/upt/samuel_tonks_experimental_space/repos/gskgithub/virtual_staining/source_code/pix2pixHD_n/train_tesaro.py --dataroot /hpc/projects/upt/samuel_tonks_experimental_space/datasets/Tesaro-DNA-Damage/Data/Lung/Step1_Preprocessing/ACT1_Normalise/bf_fitc_30k_toxic/ --data_type 16 --batchSize 4 --checkpoints_dir /hpc/projects/upt/samuel_tonks_experimental_space/experiments/Tesaro-DNA-Damage/cuong_group_experiments/ACT2_Train/bf_fitc_30k_toxic_lung_seed123 --label_nc 0 --name bf_fitc_30k_toxic_lung_seed123 --no_instance  --resize_or_crop none --input_nc 1 --output_nc 1 --seed 123 --nThreads 1 --gpu_ids 0 --loadSize 1080 --norm instance --use_dropout  \n",
      "python /hpc/projects/upt/samuel_tonks_experimental_space/repos/gskgithub/virtual_staining/source_code/pix2pixHD_n/train_tesaro.py --dataroot /hpc/projects/upt/samuel_tonks_experimental_space/datasets/Tesaro-DNA-Damage/Data/Ovarian/Step1_Preprocessing/ACT1_Normalise/bf_fitc_30k_toxic/ --data_type 16 --batchSize 4 --checkpoints_dir /hpc/projects/upt/samuel_tonks_experimental_space/experiments/Tesaro-DNA-Damage/cuong_group_experiments/ACT2_Train/bf_fitc_30k_toxic_ovarian_seed42 --label_nc 0 --name bf_fitc_30k_toxic_ovarian_seed42 --no_instance  --resize_or_crop none --input_nc 1 --output_nc 1 --seed 42 --nThreads 1 --gpu_ids 0 --loadSize 1080 --norm instance --use_dropout  \n",
      "python /hpc/projects/upt/samuel_tonks_experimental_space/repos/gskgithub/virtual_staining/source_code/pix2pixHD_n/train_tesaro.py --dataroot /hpc/projects/upt/samuel_tonks_experimental_space/datasets/Tesaro-DNA-Damage/Data/Ovarian/Step1_Preprocessing/ACT1_Normalise/bf_fitc_30k_toxic/ --data_type 16 --batchSize 4 --checkpoints_dir /hpc/projects/upt/samuel_tonks_experimental_space/experiments/Tesaro-DNA-Damage/cuong_group_experiments/ACT2_Train/bf_fitc_30k_toxic_ovarian_seed123 --label_nc 0 --name bf_fitc_30k_toxic_ovarian_seed123 --no_instance  --resize_or_crop none --input_nc 1 --output_nc 1 --seed 123 --nThreads 1 --gpu_ids 0 --loadSize 1080 --norm instance --use_dropout  \n",
      "Submitted batch job 65670702\n",
      "\n"
     ]
    },
    {
     "data": {
      "text/plain": [
       "'Submitted batch job 65670702\\n'"
      ]
     },
     "execution_count": 17,
     "metadata": {},
     "output_type": "execute_result"
    }
   ],
   "source": [
    "stains = ['dna','Cy5','FITC']\n",
    "celltypes = ['Breast','Lung','Ovarian']\n",
    "command_list = []\n",
    "# phentypes = ['toxic']\n",
    "for stain in stains:\n",
    "    for celltype in celltypes:\n",
    "        # Define a model name\n",
    "        model_name = f'bf_{stain.lower()}_30k_toxic_{celltype.lower()}' #'dapi_HE_run_32float'\n",
    "        # Path for conda environment \n",
    "        conda_path = os.path.join(\n",
    "            '/hpc/user_apps/bioimaging_analytics/conda_environments/pix2pixHD_CUDA11',\n",
    "        #     'pytorch_1.8.1_py3.7',\n",
    "        )\n",
    "\n",
    "        # Path for location of source code\n",
    "        repo_path = os.path.join(\n",
    "            '/hpc/projects/upt/samuel_tonks_experimental_space/repos/gskgithub/virtual_staining/source_code/pix2pixHD_n/train_tesaro.py')\n",
    "        if stain == 'dna':\n",
    "            dataroot = os.path.join(\n",
    "            f'/hpc/projects/upt/samuel_tonks_experimental_space/datasets/Tesaro-DNA-Damage/Data/{celltype}/Step1_Preprocessing/ACT1_Normalise/bf_{stain.lower()}_30k_toxic/')\n",
    "#               f'/hpc/scratch/rdip1/smt29021/Tesaro-DNA-Damage/Data/APPROACH_Pix2PixHD/{celltype}/Step1_Preprocessing/ACT1_Normalise/',model_name)\n",
    "        else:\n",
    "            dataroot = os.path.join(\n",
    "#                 '/hpc/projects/upt/samuel_tonks_experimental_space/datasets/Tesaro-DNA-Damage/Data/Breast/Step1_Preprocessing/ACT1_Normalise/bf_cy5_30k_toxic/train_B/')\n",
    "\n",
    "            f'/hpc/projects/upt/samuel_tonks_experimental_space/datasets/Tesaro-DNA-Damage/Data/{celltype}/Step1_Preprocessing/ACT1_Normalise/bf_{stain.lower()}_30k_toxic/')\n",
    "#               f'/hpc/scratch/rdip1/smt29021/Tesaro-DNA-Damage/Data/APPROACH_Pix2PixHD/{celltype}/Step1_Preprocessing/ACT1_Normalise/', model_name )\n",
    "\n",
    "        # Path for saving training outputs including weights and validation scores\n",
    "        output_dir = os.path.join(\n",
    "            '/hpc/projects/upt/samuel_tonks_experimental_space/experiments/Tesaro-DNA-Damage/cuong_group_experiments/ACT2_Train/',\n",
    "        #     'APPROACH_Pix2PixHD',\n",
    "        #     cell_type,\n",
    "        #     'Step1_Preprocessing',\n",
    "        #     'ACT2_Train',\n",
    "#             model_name,\n",
    "        )\n",
    "\n",
    "        # Path for chosen training file see source code for explanation of files to choose from.\n",
    "        py_file = os.path.join(\n",
    "            repo_path,\n",
    "#             'train_16bit.py'\n",
    "        )\n",
    "        for seed in ['42','123']:\n",
    "            arg_dict = {}\n",
    "            arg_dict['--dataroot'] = dataroot\n",
    "            arg_dict['--data_type'] = '16'\n",
    "            arg_dict['--batchSize'] = '4'\n",
    "            arg_dict['--checkpoints_dir'] = os.path.join(output_dir,f'{model_name}_seed{seed}') \n",
    "            arg_dict['--label_nc'] = '0'\n",
    "            arg_dict['--name'] = f'{model_name}_seed{seed}'\n",
    "            arg_dict['--no_instance'] = ''\n",
    "            arg_dict['--resize_or_crop'] = 'none'\n",
    "            arg_dict['--input_nc'] = '1'\n",
    "            arg_dict['--output_nc'] = '1'\n",
    "            arg_dict['--seed'] = seed\n",
    "\n",
    "            # arg_dict['--no_vgg_loss'] = ''\n",
    "            arg_dict['--nThreads'] = '1'\n",
    "            arg_dict['--gpu_ids'] = '0'\n",
    "            arg_dict['--loadSize'] = '1080'\n",
    "            # arg_dict['--ndf'] = '32'\n",
    "            arg_dict['--norm'] = 'instance'\n",
    "            arg_dict['--use_dropout'] = ''\n",
    "            # arg_dict['--dropout_variation_inf'] = 'False'\n",
    "            ## APEX Training only\n",
    "            # arg_dict['--fp16'] = '' \n",
    "\n",
    "            ## Used only is retraining from epoch\n",
    "            # arg_dict['--continue_train'] = ''\n",
    "            # arg_dict['--which_epoch'] = 'latest'\n",
    "            command = train_pix2pixHD(\n",
    "                py_file,\n",
    "                arg_dict)\n",
    "            command_list.append(command)\n",
    "            \n",
    "            print(command)\n",
    "### Job Settings ###\n",
    "job_name = '{}_{}'.format(model_name, seed)\n",
    "\n",
    "node_setting = ''\n",
    "node_setting = node_setting+' --job-name={}'.format(job_name)\n",
    "node_setting = node_setting+' --time=10-00:00'\n",
    "node_setting = node_setting+' --nodes=1'\n",
    "# node_setting = node_setting+' --dependency=afterok:{}'.format('43523352')\n",
    "\n",
    "node_setting = node_setting+' --partition=gpu'\n",
    "node_setting = node_setting+' --gres=gpu:a6000:1'\n",
    "node_setting = node_setting+' --ntasks-per-node=1'\n",
    "node_setting = node_setting+' --output=./slurm_outs/\"slurm-%A_%a.out\"'\n",
    "node_setting = node_setting[1:]\n",
    "\n",
    "os.makedirs('./slurm_outs', exist_ok=True)\n",
    "\n",
    "submit_array(root_dir, command_list[1:], node_setting, job_name,repo_path, conda_path)"
   ]
  },
  {
   "cell_type": "code",
   "execution_count": 15,
   "metadata": {},
   "outputs": [
    {
     "data": {
      "text/plain": [
       "18"
      ]
     },
     "execution_count": 15,
     "metadata": {},
     "output_type": "execute_result"
    }
   ],
   "source": [
    "len(command_list)"
   ]
  },
  {
   "cell_type": "markdown",
   "metadata": {},
   "source": [
    "### Define general paramters"
   ]
  },
  {
   "cell_type": "code",
   "execution_count": 3,
   "metadata": {},
   "outputs": [
    {
     "name": "stdout",
     "output_type": "stream",
     "text": [
      "python /hpc/projects/upt/samuel_tonks_experimental_space/repos/gskgithub/virtual_staining/source_code/pix2pixHD_n/train_tesaro.py --dataroot /hpc/scratch/rdip1/smt29021/Tesaro-DNA-Damage/Data/APPROACH_Pix2PixHD//Breast/Step1_Preprocessing/ACT1_Normalise/bf_dna_16bit_breast_val_30000imgs/ --data_type 16 --batchSize 16 --checkpoints_dir /hpc/projects/upt/samuel_tonks_experimental_space/experiments/Tesaro-DNA-Damage/cuong_group_experiments/ACT2_Train/bf_dna_16bit_breast_val_30000imgs_seed42 --label_nc 0 --name bf_dna_16bit_breast_val_30000imgs_seed42 --no_instance  --resize_or_crop none --input_nc 1 --output_nc 1 --seed 42 --nThreads 1 --gpu_ids 0 --loadSize 1080 --norm instance --use_dropout  \n",
      "python /hpc/projects/upt/samuel_tonks_experimental_space/repos/gskgithub/virtual_staining/source_code/pix2pixHD_n/train_tesaro.py --dataroot /hpc/scratch/rdip1/smt29021/Tesaro-DNA-Damage/Data/APPROACH_Pix2PixHD//Breast/Step1_Preprocessing/ACT1_Normalise/bf_dna_16bit_breast_val_30000imgs/ --data_type 16 --batchSize 16 --checkpoints_dir /hpc/projects/upt/samuel_tonks_experimental_space/experiments/Tesaro-DNA-Damage/cuong_group_experiments/ACT2_Train/bf_dna_16bit_breast_val_30000imgs_seed123 --label_nc 0 --name bf_dna_16bit_breast_val_30000imgs_seed123 --no_instance  --resize_or_crop none --input_nc 1 --output_nc 1 --seed 123 --nThreads 1 --gpu_ids 0 --loadSize 1080 --norm instance --use_dropout  \n",
      "python /hpc/projects/upt/samuel_tonks_experimental_space/repos/gskgithub/virtual_staining/source_code/pix2pixHD_n/train_tesaro.py --dataroot /hpc/scratch/rdip1/smt29021/Tesaro-DNA-Damage/Data/APPROACH_Pix2PixHD//Lung/Step1_Preprocessing/ACT1_Normalise/bf_dna_16bit_lung_val_30000imgs/ --data_type 16 --batchSize 16 --checkpoints_dir /hpc/projects/upt/samuel_tonks_experimental_space/experiments/Tesaro-DNA-Damage/cuong_group_experiments/ACT2_Train/bf_dna_16bit_lung_val_30000imgs_seed42 --label_nc 0 --name bf_dna_16bit_lung_val_30000imgs_seed42 --no_instance  --resize_or_crop none --input_nc 1 --output_nc 1 --seed 42 --nThreads 1 --gpu_ids 0 --loadSize 1080 --norm instance --use_dropout  \n",
      "python /hpc/projects/upt/samuel_tonks_experimental_space/repos/gskgithub/virtual_staining/source_code/pix2pixHD_n/train_tesaro.py --dataroot /hpc/scratch/rdip1/smt29021/Tesaro-DNA-Damage/Data/APPROACH_Pix2PixHD//Lung/Step1_Preprocessing/ACT1_Normalise/bf_dna_16bit_lung_val_30000imgs/ --data_type 16 --batchSize 16 --checkpoints_dir /hpc/projects/upt/samuel_tonks_experimental_space/experiments/Tesaro-DNA-Damage/cuong_group_experiments/ACT2_Train/bf_dna_16bit_lung_val_30000imgs_seed123 --label_nc 0 --name bf_dna_16bit_lung_val_30000imgs_seed123 --no_instance  --resize_or_crop none --input_nc 1 --output_nc 1 --seed 123 --nThreads 1 --gpu_ids 0 --loadSize 1080 --norm instance --use_dropout  \n",
      "python /hpc/projects/upt/samuel_tonks_experimental_space/repos/gskgithub/virtual_staining/source_code/pix2pixHD_n/train_tesaro.py --dataroot /hpc/scratch/rdip1/smt29021/Tesaro-DNA-Damage/Data/APPROACH_Pix2PixHD//Ovarian/Step1_Preprocessing/ACT1_Normalise/bf_dna_16bit_ovarian_val_30000imgs/ --data_type 16 --batchSize 16 --checkpoints_dir /hpc/projects/upt/samuel_tonks_experimental_space/experiments/Tesaro-DNA-Damage/cuong_group_experiments/ACT2_Train/bf_dna_16bit_ovarian_val_30000imgs_seed42 --label_nc 0 --name bf_dna_16bit_ovarian_val_30000imgs_seed42 --no_instance  --resize_or_crop none --input_nc 1 --output_nc 1 --seed 42 --nThreads 1 --gpu_ids 0 --loadSize 1080 --norm instance --use_dropout  \n",
      "python /hpc/projects/upt/samuel_tonks_experimental_space/repos/gskgithub/virtual_staining/source_code/pix2pixHD_n/train_tesaro.py --dataroot /hpc/scratch/rdip1/smt29021/Tesaro-DNA-Damage/Data/APPROACH_Pix2PixHD//Ovarian/Step1_Preprocessing/ACT1_Normalise/bf_dna_16bit_ovarian_val_30000imgs/ --data_type 16 --batchSize 16 --checkpoints_dir /hpc/projects/upt/samuel_tonks_experimental_space/experiments/Tesaro-DNA-Damage/cuong_group_experiments/ACT2_Train/bf_dna_16bit_ovarian_val_30000imgs_seed123 --label_nc 0 --name bf_dna_16bit_ovarian_val_30000imgs_seed123 --no_instance  --resize_or_crop none --input_nc 1 --output_nc 1 --seed 123 --nThreads 1 --gpu_ids 0 --loadSize 1080 --norm instance --use_dropout  \n",
      "python /hpc/projects/upt/samuel_tonks_experimental_space/repos/gskgithub/virtual_staining/source_code/pix2pixHD_n/train_tesaro.py --dataroot /hpc/scratch/rdip1/smt29021/Tesaro-DNA-Damage/Data/APPROACH_Pix2PixHD//Breast/Step1_Preprocessing/ACT1_Normalise/bf_cy5_16bit_breast_val_30000imgs/ --data_type 16 --batchSize 16 --checkpoints_dir /hpc/projects/upt/samuel_tonks_experimental_space/experiments/Tesaro-DNA-Damage/cuong_group_experiments/ACT2_Train/bf_cy5_16bit_breast_val_30000imgs_seed42 --label_nc 0 --name bf_cy5_16bit_breast_val_30000imgs_seed42 --no_instance  --resize_or_crop none --input_nc 1 --output_nc 1 --seed 42 --nThreads 1 --gpu_ids 0 --loadSize 1080 --norm instance --use_dropout  \n",
      "python /hpc/projects/upt/samuel_tonks_experimental_space/repos/gskgithub/virtual_staining/source_code/pix2pixHD_n/train_tesaro.py --dataroot /hpc/scratch/rdip1/smt29021/Tesaro-DNA-Damage/Data/APPROACH_Pix2PixHD//Breast/Step1_Preprocessing/ACT1_Normalise/bf_cy5_16bit_breast_val_30000imgs/ --data_type 16 --batchSize 16 --checkpoints_dir /hpc/projects/upt/samuel_tonks_experimental_space/experiments/Tesaro-DNA-Damage/cuong_group_experiments/ACT2_Train/bf_cy5_16bit_breast_val_30000imgs_seed123 --label_nc 0 --name bf_cy5_16bit_breast_val_30000imgs_seed123 --no_instance  --resize_or_crop none --input_nc 1 --output_nc 1 --seed 123 --nThreads 1 --gpu_ids 0 --loadSize 1080 --norm instance --use_dropout  \n",
      "python /hpc/projects/upt/samuel_tonks_experimental_space/repos/gskgithub/virtual_staining/source_code/pix2pixHD_n/train_tesaro.py --dataroot /hpc/scratch/rdip1/smt29021/Tesaro-DNA-Damage/Data/APPROACH_Pix2PixHD//Lung/Step1_Preprocessing/ACT1_Normalise/bf_cy5_16bit_lung_val_30000imgs/ --data_type 16 --batchSize 16 --checkpoints_dir /hpc/projects/upt/samuel_tonks_experimental_space/experiments/Tesaro-DNA-Damage/cuong_group_experiments/ACT2_Train/bf_cy5_16bit_lung_val_30000imgs_seed42 --label_nc 0 --name bf_cy5_16bit_lung_val_30000imgs_seed42 --no_instance  --resize_or_crop none --input_nc 1 --output_nc 1 --seed 42 --nThreads 1 --gpu_ids 0 --loadSize 1080 --norm instance --use_dropout  \n",
      "python /hpc/projects/upt/samuel_tonks_experimental_space/repos/gskgithub/virtual_staining/source_code/pix2pixHD_n/train_tesaro.py --dataroot /hpc/scratch/rdip1/smt29021/Tesaro-DNA-Damage/Data/APPROACH_Pix2PixHD//Lung/Step1_Preprocessing/ACT1_Normalise/bf_cy5_16bit_lung_val_30000imgs/ --data_type 16 --batchSize 16 --checkpoints_dir /hpc/projects/upt/samuel_tonks_experimental_space/experiments/Tesaro-DNA-Damage/cuong_group_experiments/ACT2_Train/bf_cy5_16bit_lung_val_30000imgs_seed123 --label_nc 0 --name bf_cy5_16bit_lung_val_30000imgs_seed123 --no_instance  --resize_or_crop none --input_nc 1 --output_nc 1 --seed 123 --nThreads 1 --gpu_ids 0 --loadSize 1080 --norm instance --use_dropout  \n",
      "python /hpc/projects/upt/samuel_tonks_experimental_space/repos/gskgithub/virtual_staining/source_code/pix2pixHD_n/train_tesaro.py --dataroot /hpc/scratch/rdip1/smt29021/Tesaro-DNA-Damage/Data/APPROACH_Pix2PixHD//Ovarian/Step1_Preprocessing/ACT1_Normalise/bf_cy5_16bit_ovarian_val_30000imgs/ --data_type 16 --batchSize 16 --checkpoints_dir /hpc/projects/upt/samuel_tonks_experimental_space/experiments/Tesaro-DNA-Damage/cuong_group_experiments/ACT2_Train/bf_cy5_16bit_ovarian_val_30000imgs_seed42 --label_nc 0 --name bf_cy5_16bit_ovarian_val_30000imgs_seed42 --no_instance  --resize_or_crop none --input_nc 1 --output_nc 1 --seed 42 --nThreads 1 --gpu_ids 0 --loadSize 1080 --norm instance --use_dropout  \n",
      "python /hpc/projects/upt/samuel_tonks_experimental_space/repos/gskgithub/virtual_staining/source_code/pix2pixHD_n/train_tesaro.py --dataroot /hpc/scratch/rdip1/smt29021/Tesaro-DNA-Damage/Data/APPROACH_Pix2PixHD//Ovarian/Step1_Preprocessing/ACT1_Normalise/bf_cy5_16bit_ovarian_val_30000imgs/ --data_type 16 --batchSize 16 --checkpoints_dir /hpc/projects/upt/samuel_tonks_experimental_space/experiments/Tesaro-DNA-Damage/cuong_group_experiments/ACT2_Train/bf_cy5_16bit_ovarian_val_30000imgs_seed123 --label_nc 0 --name bf_cy5_16bit_ovarian_val_30000imgs_seed123 --no_instance  --resize_or_crop none --input_nc 1 --output_nc 1 --seed 123 --nThreads 1 --gpu_ids 0 --loadSize 1080 --norm instance --use_dropout  \n",
      "python /hpc/projects/upt/samuel_tonks_experimental_space/repos/gskgithub/virtual_staining/source_code/pix2pixHD_n/train_tesaro.py --dataroot /hpc/scratch/rdip1/smt29021/Tesaro-DNA-Damage/Data/APPROACH_Pix2PixHD//Breast/Step1_Preprocessing/ACT1_Normalise/bf_fitc_16bit_breast_val_30000imgs/ --data_type 16 --batchSize 16 --checkpoints_dir /hpc/projects/upt/samuel_tonks_experimental_space/experiments/Tesaro-DNA-Damage/cuong_group_experiments/ACT2_Train/bf_fitc_16bit_breast_val_30000imgs_seed42 --label_nc 0 --name bf_fitc_16bit_breast_val_30000imgs_seed42 --no_instance  --resize_or_crop none --input_nc 1 --output_nc 1 --seed 42 --nThreads 1 --gpu_ids 0 --loadSize 1080 --norm instance --use_dropout  \n",
      "python /hpc/projects/upt/samuel_tonks_experimental_space/repos/gskgithub/virtual_staining/source_code/pix2pixHD_n/train_tesaro.py --dataroot /hpc/scratch/rdip1/smt29021/Tesaro-DNA-Damage/Data/APPROACH_Pix2PixHD//Breast/Step1_Preprocessing/ACT1_Normalise/bf_fitc_16bit_breast_val_30000imgs/ --data_type 16 --batchSize 16 --checkpoints_dir /hpc/projects/upt/samuel_tonks_experimental_space/experiments/Tesaro-DNA-Damage/cuong_group_experiments/ACT2_Train/bf_fitc_16bit_breast_val_30000imgs_seed123 --label_nc 0 --name bf_fitc_16bit_breast_val_30000imgs_seed123 --no_instance  --resize_or_crop none --input_nc 1 --output_nc 1 --seed 123 --nThreads 1 --gpu_ids 0 --loadSize 1080 --norm instance --use_dropout  \n",
      "python /hpc/projects/upt/samuel_tonks_experimental_space/repos/gskgithub/virtual_staining/source_code/pix2pixHD_n/train_tesaro.py --dataroot /hpc/scratch/rdip1/smt29021/Tesaro-DNA-Damage/Data/APPROACH_Pix2PixHD//Lung/Step1_Preprocessing/ACT1_Normalise/bf_fitc_16bit_lung_val_30000imgs/ --data_type 16 --batchSize 16 --checkpoints_dir /hpc/projects/upt/samuel_tonks_experimental_space/experiments/Tesaro-DNA-Damage/cuong_group_experiments/ACT2_Train/bf_fitc_16bit_lung_val_30000imgs_seed42 --label_nc 0 --name bf_fitc_16bit_lung_val_30000imgs_seed42 --no_instance  --resize_or_crop none --input_nc 1 --output_nc 1 --seed 42 --nThreads 1 --gpu_ids 0 --loadSize 1080 --norm instance --use_dropout  \n",
      "python /hpc/projects/upt/samuel_tonks_experimental_space/repos/gskgithub/virtual_staining/source_code/pix2pixHD_n/train_tesaro.py --dataroot /hpc/scratch/rdip1/smt29021/Tesaro-DNA-Damage/Data/APPROACH_Pix2PixHD//Lung/Step1_Preprocessing/ACT1_Normalise/bf_fitc_16bit_lung_val_30000imgs/ --data_type 16 --batchSize 16 --checkpoints_dir /hpc/projects/upt/samuel_tonks_experimental_space/experiments/Tesaro-DNA-Damage/cuong_group_experiments/ACT2_Train/bf_fitc_16bit_lung_val_30000imgs_seed123 --label_nc 0 --name bf_fitc_16bit_lung_val_30000imgs_seed123 --no_instance  --resize_or_crop none --input_nc 1 --output_nc 1 --seed 123 --nThreads 1 --gpu_ids 0 --loadSize 1080 --norm instance --use_dropout  \n",
      "python /hpc/projects/upt/samuel_tonks_experimental_space/repos/gskgithub/virtual_staining/source_code/pix2pixHD_n/train_tesaro.py --dataroot /hpc/scratch/rdip1/smt29021/Tesaro-DNA-Damage/Data/APPROACH_Pix2PixHD//Ovarian/Step1_Preprocessing/ACT1_Normalise/bf_fitc_16bit_ovarian_val_30000imgs/ --data_type 16 --batchSize 16 --checkpoints_dir /hpc/projects/upt/samuel_tonks_experimental_space/experiments/Tesaro-DNA-Damage/cuong_group_experiments/ACT2_Train/bf_fitc_16bit_ovarian_val_30000imgs_seed42 --label_nc 0 --name bf_fitc_16bit_ovarian_val_30000imgs_seed42 --no_instance  --resize_or_crop none --input_nc 1 --output_nc 1 --seed 42 --nThreads 1 --gpu_ids 0 --loadSize 1080 --norm instance --use_dropout  \n",
      "python /hpc/projects/upt/samuel_tonks_experimental_space/repos/gskgithub/virtual_staining/source_code/pix2pixHD_n/train_tesaro.py --dataroot /hpc/scratch/rdip1/smt29021/Tesaro-DNA-Damage/Data/APPROACH_Pix2PixHD//Ovarian/Step1_Preprocessing/ACT1_Normalise/bf_fitc_16bit_ovarian_val_30000imgs/ --data_type 16 --batchSize 16 --checkpoints_dir /hpc/projects/upt/samuel_tonks_experimental_space/experiments/Tesaro-DNA-Damage/cuong_group_experiments/ACT2_Train/bf_fitc_16bit_ovarian_val_30000imgs_seed123 --label_nc 0 --name bf_fitc_16bit_ovarian_val_30000imgs_seed123 --no_instance  --resize_or_crop none --input_nc 1 --output_nc 1 --seed 123 --nThreads 1 --gpu_ids 0 --loadSize 1080 --norm instance --use_dropout  \n"
     ]
    }
   ],
   "source": [
    "stains = ['dna','Cy5','FITC']\n",
    "celltypes = ['Breast','Lung','Ovarian']\n",
    "phentypes = ['nontoxic', 'toxic']\n",
    "for stain in stains:\n",
    "    for celltype in celltypes:\n",
    "        # Define a model name\n",
    "        model_name = f'bf_{stain.lower()}_16bit_{celltype.lower()}_val_30000imgs' #'dapi_HE_run_32float'\n",
    "        # Path for conda environment \n",
    "        conda_path = os.path.join(\n",
    "            '/hpc/user_apps/bioimaging_analytics/conda_environments/pix2pixHD_CUDA11',\n",
    "        #     'pytorch_1.8.1_py3.7',\n",
    "        )\n",
    "\n",
    "        # Path for location of source code\n",
    "        repo_path = os.path.join(\n",
    "            '/hpc/projects/upt/samuel_tonks_experimental_space/repos/gskgithub/virtual_staining/source_code/pix2pixHD_n/train_tesaro.py')\n",
    "    \n",
    "        dataroot = os.path.join(\n",
    "            f'/hpc/scratch/rdip1/smt29021/Tesaro-DNA-Damage/Data/APPROACH_Pix2PixHD//{celltype}/Step1_Preprocessing/ACT1_Normalise/bf_{stain.lower()}_16bit_{celltype.lower()}_val_30000imgs/')\n",
    "        # Path for saving training outputs including weights and validation scores\n",
    "        output_dir = os.path.join(\n",
    "            '/hpc/projects/upt/samuel_tonks_experimental_space/experiments/Tesaro-DNA-Damage/cuong_group_experiments/ACT2_Train/',\n",
    "        #     'APPROACH_Pix2PixHD',\n",
    "        #     cell_type,\n",
    "        #     'Step1_Preprocessing',\n",
    "        #     'ACT2_Train',\n",
    "#             model_name,\n",
    "        )\n",
    "\n",
    "        # Path for chosen training file see source code for explanation of files to choose from.\n",
    "        py_file = os.path.join(\n",
    "            repo_path,\n",
    "#             'train_16bit.py'\n",
    "        )\n",
    "        for seed in ['42','123']:\n",
    "            arg_dict = {}\n",
    "            arg_dict['--dataroot'] = dataroot\n",
    "            arg_dict['--data_type'] = '16'\n",
    "            arg_dict['--batchSize'] = '16'\n",
    "            arg_dict['--checkpoints_dir'] = os.path.join(output_dir,f'{model_name}_seed{seed}') \n",
    "            arg_dict['--label_nc'] = '0'\n",
    "            arg_dict['--name'] = f'{model_name}_seed{seed}'\n",
    "            arg_dict['--no_instance'] = ''\n",
    "            arg_dict['--resize_or_crop'] = 'none'\n",
    "            arg_dict['--input_nc'] = '1'\n",
    "            arg_dict['--output_nc'] = '1'\n",
    "            arg_dict['--seed'] = seed\n",
    "\n",
    "            # arg_dict['--no_vgg_loss'] = ''\n",
    "            arg_dict['--nThreads'] = '1'\n",
    "            arg_dict['--gpu_ids'] = '0'\n",
    "            arg_dict['--loadSize'] = '1080'\n",
    "            # arg_dict['--ndf'] = '32'\n",
    "            arg_dict['--norm'] = 'instance'\n",
    "            arg_dict['--use_dropout'] = ''\n",
    "            # arg_dict['--dropout_variation_inf'] = 'False'\n",
    "            ## APEX Training only\n",
    "            # arg_dict['--fp16'] = '' \n",
    "\n",
    "            ## Used only is retraining from epoch\n",
    "            # arg_dict['--continue_train'] = ''\n",
    "            # arg_dict['--which_epoch'] = 'latest'\n",
    "            command = train_pix2pixHD(\n",
    "                py_file,\n",
    "                arg_dict\n",
    "            )\n",
    "            command_list.append(command)\n",
    "            print(command)"
   ]
  },
  {
   "cell_type": "code",
   "execution_count": 6,
   "metadata": {},
   "outputs": [
    {
     "data": {
      "text/plain": [
       "18"
      ]
     },
     "execution_count": 6,
     "metadata": {},
     "output_type": "execute_result"
    }
   ],
   "source": [
    "len(command_list)"
   ]
  },
  {
   "cell_type": "code",
   "execution_count": 17,
   "metadata": {},
   "outputs": [],
   "source": [
    "import json\n",
    "with open(os.path.join(output_dir,'notoxic_phenotype_train_runs.json'), 'w', encoding= 'utf-8') as f:\n",
    "    json.dump(command_list, f, ensure_ascii=False, indent=4)"
   ]
  },
  {
   "cell_type": "code",
   "execution_count": 18,
   "metadata": {},
   "outputs": [
    {
     "data": {
      "text/plain": [
       "['python /hpc/projects/upt/samuel_tonks_experimental_space/repos/gskgithub/virtual_staining/source_code/pix2pixHD_n/train_tesaro.py --dataroot /hpc/projects/upt/samuel_tonks_experimental_space/datasets/Tesaro-DNA-Damage/CellProfiler_Wells/nontoxic/Ovarian/bf_fitc_16bit_nontoxic/ --data_type 16 --batchSize 16 --checkpoints_dir /hpc/projects/upt/samuel_tonks_experimental_space/experiments/Tesaro-DNA-Damage/cuong_group_experiments/ACT2_Train/bf_fitc_30k_nontoxic_seed123 --label_nc 0 --name bf_fitc_30k_nontoxic_seed123 --no_instance  --resize_or_crop none --input_nc 1 --output_nc 1 --seed 123 --nThreads 1 --gpu_ids 0 --loadSize 1080 --norm instance --use_dropout  ',\n",
       " 'python /hpc/projects/upt/samuel_tonks_experimental_space/repos/gskgithub/virtual_staining/source_code/pix2pixHD_n/train_tesaro.py --dataroot /hpc/projects/upt/samuel_tonks_experimental_space/datasets/Tesaro-DNA-Damage/CellProfiler_Wells/nontoxic/Breast/bf_dna_30k_nontoxic/ --data_type 16 --batchSize 16 --checkpoints_dir /hpc/projects/upt/samuel_tonks_experimental_space/experiments/Tesaro-DNA-Damage/cuong_group_experiments/ACT2_Train/bf_dna_30k_nontoxic_seed42 --label_nc 0 --name bf_dna_30k_nontoxic_seed42 --no_instance  --resize_or_crop none --input_nc 1 --output_nc 1 --seed 42 --nThreads 1 --gpu_ids 0 --loadSize 1080 --norm instance --use_dropout  ',\n",
       " 'python /hpc/projects/upt/samuel_tonks_experimental_space/repos/gskgithub/virtual_staining/source_code/pix2pixHD_n/train_tesaro.py --dataroot /hpc/projects/upt/samuel_tonks_experimental_space/datasets/Tesaro-DNA-Damage/CellProfiler_Wells/nontoxic/Breast/bf_dna_30k_nontoxic/ --data_type 16 --batchSize 16 --checkpoints_dir /hpc/projects/upt/samuel_tonks_experimental_space/experiments/Tesaro-DNA-Damage/cuong_group_experiments/ACT2_Train/bf_dna_30k_nontoxic_seed123 --label_nc 0 --name bf_dna_30k_nontoxic_seed123 --no_instance  --resize_or_crop none --input_nc 1 --output_nc 1 --seed 123 --nThreads 1 --gpu_ids 0 --loadSize 1080 --norm instance --use_dropout  ',\n",
       " 'python /hpc/projects/upt/samuel_tonks_experimental_space/repos/gskgithub/virtual_staining/source_code/pix2pixHD_n/train_tesaro.py --dataroot /hpc/projects/upt/samuel_tonks_experimental_space/datasets/Tesaro-DNA-Damage/CellProfiler_Wells/nontoxic/Lung/bf_dna_30k_nontoxic/ --data_type 16 --batchSize 16 --checkpoints_dir /hpc/projects/upt/samuel_tonks_experimental_space/experiments/Tesaro-DNA-Damage/cuong_group_experiments/ACT2_Train/bf_dna_30k_nontoxic_seed42 --label_nc 0 --name bf_dna_30k_nontoxic_seed42 --no_instance  --resize_or_crop none --input_nc 1 --output_nc 1 --seed 42 --nThreads 1 --gpu_ids 0 --loadSize 1080 --norm instance --use_dropout  ',\n",
       " 'python /hpc/projects/upt/samuel_tonks_experimental_space/repos/gskgithub/virtual_staining/source_code/pix2pixHD_n/train_tesaro.py --dataroot /hpc/projects/upt/samuel_tonks_experimental_space/datasets/Tesaro-DNA-Damage/CellProfiler_Wells/nontoxic/Lung/bf_dna_30k_nontoxic/ --data_type 16 --batchSize 16 --checkpoints_dir /hpc/projects/upt/samuel_tonks_experimental_space/experiments/Tesaro-DNA-Damage/cuong_group_experiments/ACT2_Train/bf_dna_30k_nontoxic_seed123 --label_nc 0 --name bf_dna_30k_nontoxic_seed123 --no_instance  --resize_or_crop none --input_nc 1 --output_nc 1 --seed 123 --nThreads 1 --gpu_ids 0 --loadSize 1080 --norm instance --use_dropout  ',\n",
       " 'python /hpc/projects/upt/samuel_tonks_experimental_space/repos/gskgithub/virtual_staining/source_code/pix2pixHD_n/train_tesaro.py --dataroot /hpc/projects/upt/samuel_tonks_experimental_space/datasets/Tesaro-DNA-Damage/CellProfiler_Wells/nontoxic/Ovarian/bf_dna_30k_nontoxic/ --data_type 16 --batchSize 16 --checkpoints_dir /hpc/projects/upt/samuel_tonks_experimental_space/experiments/Tesaro-DNA-Damage/cuong_group_experiments/ACT2_Train/bf_dna_30k_nontoxic_seed42 --label_nc 0 --name bf_dna_30k_nontoxic_seed42 --no_instance  --resize_or_crop none --input_nc 1 --output_nc 1 --seed 42 --nThreads 1 --gpu_ids 0 --loadSize 1080 --norm instance --use_dropout  ',\n",
       " 'python /hpc/projects/upt/samuel_tonks_experimental_space/repos/gskgithub/virtual_staining/source_code/pix2pixHD_n/train_tesaro.py --dataroot /hpc/projects/upt/samuel_tonks_experimental_space/datasets/Tesaro-DNA-Damage/CellProfiler_Wells/nontoxic/Ovarian/bf_dna_30k_nontoxic/ --data_type 16 --batchSize 16 --checkpoints_dir /hpc/projects/upt/samuel_tonks_experimental_space/experiments/Tesaro-DNA-Damage/cuong_group_experiments/ACT2_Train/bf_dna_30k_nontoxic_seed123 --label_nc 0 --name bf_dna_30k_nontoxic_seed123 --no_instance  --resize_or_crop none --input_nc 1 --output_nc 1 --seed 123 --nThreads 1 --gpu_ids 0 --loadSize 1080 --norm instance --use_dropout  ',\n",
       " 'python /hpc/projects/upt/samuel_tonks_experimental_space/repos/gskgithub/virtual_staining/source_code/pix2pixHD_n/train_tesaro.py --dataroot /hpc/projects/upt/samuel_tonks_experimental_space/datasets/Tesaro-DNA-Damage/CellProfiler_Wells/nontoxic/Breast/bf_cy5_30k_nontoxic/ --data_type 16 --batchSize 16 --checkpoints_dir /hpc/projects/upt/samuel_tonks_experimental_space/experiments/Tesaro-DNA-Damage/cuong_group_experiments/ACT2_Train/bf_cy5_30k_nontoxic_seed42 --label_nc 0 --name bf_cy5_30k_nontoxic_seed42 --no_instance  --resize_or_crop none --input_nc 1 --output_nc 1 --seed 42 --nThreads 1 --gpu_ids 0 --loadSize 1080 --norm instance --use_dropout  ',\n",
       " 'python /hpc/projects/upt/samuel_tonks_experimental_space/repos/gskgithub/virtual_staining/source_code/pix2pixHD_n/train_tesaro.py --dataroot /hpc/projects/upt/samuel_tonks_experimental_space/datasets/Tesaro-DNA-Damage/CellProfiler_Wells/nontoxic/Breast/bf_cy5_30k_nontoxic/ --data_type 16 --batchSize 16 --checkpoints_dir /hpc/projects/upt/samuel_tonks_experimental_space/experiments/Tesaro-DNA-Damage/cuong_group_experiments/ACT2_Train/bf_cy5_30k_nontoxic_seed123 --label_nc 0 --name bf_cy5_30k_nontoxic_seed123 --no_instance  --resize_or_crop none --input_nc 1 --output_nc 1 --seed 123 --nThreads 1 --gpu_ids 0 --loadSize 1080 --norm instance --use_dropout  ',\n",
       " 'python /hpc/projects/upt/samuel_tonks_experimental_space/repos/gskgithub/virtual_staining/source_code/pix2pixHD_n/train_tesaro.py --dataroot /hpc/projects/upt/samuel_tonks_experimental_space/datasets/Tesaro-DNA-Damage/CellProfiler_Wells/nontoxic/Lung/bf_cy5_30k_nontoxic/ --data_type 16 --batchSize 16 --checkpoints_dir /hpc/projects/upt/samuel_tonks_experimental_space/experiments/Tesaro-DNA-Damage/cuong_group_experiments/ACT2_Train/bf_cy5_30k_nontoxic_seed42 --label_nc 0 --name bf_cy5_30k_nontoxic_seed42 --no_instance  --resize_or_crop none --input_nc 1 --output_nc 1 --seed 42 --nThreads 1 --gpu_ids 0 --loadSize 1080 --norm instance --use_dropout  ',\n",
       " 'python /hpc/projects/upt/samuel_tonks_experimental_space/repos/gskgithub/virtual_staining/source_code/pix2pixHD_n/train_tesaro.py --dataroot /hpc/projects/upt/samuel_tonks_experimental_space/datasets/Tesaro-DNA-Damage/CellProfiler_Wells/nontoxic/Lung/bf_cy5_30k_nontoxic/ --data_type 16 --batchSize 16 --checkpoints_dir /hpc/projects/upt/samuel_tonks_experimental_space/experiments/Tesaro-DNA-Damage/cuong_group_experiments/ACT2_Train/bf_cy5_30k_nontoxic_seed123 --label_nc 0 --name bf_cy5_30k_nontoxic_seed123 --no_instance  --resize_or_crop none --input_nc 1 --output_nc 1 --seed 123 --nThreads 1 --gpu_ids 0 --loadSize 1080 --norm instance --use_dropout  ',\n",
       " 'python /hpc/projects/upt/samuel_tonks_experimental_space/repos/gskgithub/virtual_staining/source_code/pix2pixHD_n/train_tesaro.py --dataroot /hpc/projects/upt/samuel_tonks_experimental_space/datasets/Tesaro-DNA-Damage/CellProfiler_Wells/nontoxic/Ovarian/bf_cy5_30k_nontoxic/ --data_type 16 --batchSize 16 --checkpoints_dir /hpc/projects/upt/samuel_tonks_experimental_space/experiments/Tesaro-DNA-Damage/cuong_group_experiments/ACT2_Train/bf_cy5_30k_nontoxic_seed42 --label_nc 0 --name bf_cy5_30k_nontoxic_seed42 --no_instance  --resize_or_crop none --input_nc 1 --output_nc 1 --seed 42 --nThreads 1 --gpu_ids 0 --loadSize 1080 --norm instance --use_dropout  ',\n",
       " 'python /hpc/projects/upt/samuel_tonks_experimental_space/repos/gskgithub/virtual_staining/source_code/pix2pixHD_n/train_tesaro.py --dataroot /hpc/projects/upt/samuel_tonks_experimental_space/datasets/Tesaro-DNA-Damage/CellProfiler_Wells/nontoxic/Ovarian/bf_cy5_30k_nontoxic/ --data_type 16 --batchSize 16 --checkpoints_dir /hpc/projects/upt/samuel_tonks_experimental_space/experiments/Tesaro-DNA-Damage/cuong_group_experiments/ACT2_Train/bf_cy5_30k_nontoxic_seed123 --label_nc 0 --name bf_cy5_30k_nontoxic_seed123 --no_instance  --resize_or_crop none --input_nc 1 --output_nc 1 --seed 123 --nThreads 1 --gpu_ids 0 --loadSize 1080 --norm instance --use_dropout  ',\n",
       " 'python /hpc/projects/upt/samuel_tonks_experimental_space/repos/gskgithub/virtual_staining/source_code/pix2pixHD_n/train_tesaro.py --dataroot /hpc/projects/upt/samuel_tonks_experimental_space/datasets/Tesaro-DNA-Damage/CellProfiler_Wells/nontoxic/Breast/bf_fitc_30k_nontoxic/ --data_type 16 --batchSize 16 --checkpoints_dir /hpc/projects/upt/samuel_tonks_experimental_space/experiments/Tesaro-DNA-Damage/cuong_group_experiments/ACT2_Train/bf_fitc_30k_nontoxic_seed42 --label_nc 0 --name bf_fitc_30k_nontoxic_seed42 --no_instance  --resize_or_crop none --input_nc 1 --output_nc 1 --seed 42 --nThreads 1 --gpu_ids 0 --loadSize 1080 --norm instance --use_dropout  ',\n",
       " 'python /hpc/projects/upt/samuel_tonks_experimental_space/repos/gskgithub/virtual_staining/source_code/pix2pixHD_n/train_tesaro.py --dataroot /hpc/projects/upt/samuel_tonks_experimental_space/datasets/Tesaro-DNA-Damage/CellProfiler_Wells/nontoxic/Breast/bf_fitc_30k_nontoxic/ --data_type 16 --batchSize 16 --checkpoints_dir /hpc/projects/upt/samuel_tonks_experimental_space/experiments/Tesaro-DNA-Damage/cuong_group_experiments/ACT2_Train/bf_fitc_30k_nontoxic_seed123 --label_nc 0 --name bf_fitc_30k_nontoxic_seed123 --no_instance  --resize_or_crop none --input_nc 1 --output_nc 1 --seed 123 --nThreads 1 --gpu_ids 0 --loadSize 1080 --norm instance --use_dropout  ',\n",
       " 'python /hpc/projects/upt/samuel_tonks_experimental_space/repos/gskgithub/virtual_staining/source_code/pix2pixHD_n/train_tesaro.py --dataroot /hpc/projects/upt/samuel_tonks_experimental_space/datasets/Tesaro-DNA-Damage/CellProfiler_Wells/nontoxic/Lung/bf_fitc_30k_nontoxic/ --data_type 16 --batchSize 16 --checkpoints_dir /hpc/projects/upt/samuel_tonks_experimental_space/experiments/Tesaro-DNA-Damage/cuong_group_experiments/ACT2_Train/bf_fitc_30k_nontoxic_seed42 --label_nc 0 --name bf_fitc_30k_nontoxic_seed42 --no_instance  --resize_or_crop none --input_nc 1 --output_nc 1 --seed 42 --nThreads 1 --gpu_ids 0 --loadSize 1080 --norm instance --use_dropout  ',\n",
       " 'python /hpc/projects/upt/samuel_tonks_experimental_space/repos/gskgithub/virtual_staining/source_code/pix2pixHD_n/train_tesaro.py --dataroot /hpc/projects/upt/samuel_tonks_experimental_space/datasets/Tesaro-DNA-Damage/CellProfiler_Wells/nontoxic/Lung/bf_fitc_30k_nontoxic/ --data_type 16 --batchSize 16 --checkpoints_dir /hpc/projects/upt/samuel_tonks_experimental_space/experiments/Tesaro-DNA-Damage/cuong_group_experiments/ACT2_Train/bf_fitc_30k_nontoxic_seed123 --label_nc 0 --name bf_fitc_30k_nontoxic_seed123 --no_instance  --resize_or_crop none --input_nc 1 --output_nc 1 --seed 123 --nThreads 1 --gpu_ids 0 --loadSize 1080 --norm instance --use_dropout  ',\n",
       " 'python /hpc/projects/upt/samuel_tonks_experimental_space/repos/gskgithub/virtual_staining/source_code/pix2pixHD_n/train_tesaro.py --dataroot /hpc/projects/upt/samuel_tonks_experimental_space/datasets/Tesaro-DNA-Damage/CellProfiler_Wells/nontoxic/Ovarian/bf_fitc_30k_nontoxic/ --data_type 16 --batchSize 16 --checkpoints_dir /hpc/projects/upt/samuel_tonks_experimental_space/experiments/Tesaro-DNA-Damage/cuong_group_experiments/ACT2_Train/bf_fitc_30k_nontoxic_seed42 --label_nc 0 --name bf_fitc_30k_nontoxic_seed42 --no_instance  --resize_or_crop none --input_nc 1 --output_nc 1 --seed 42 --nThreads 1 --gpu_ids 0 --loadSize 1080 --norm instance --use_dropout  ',\n",
       " 'python /hpc/projects/upt/samuel_tonks_experimental_space/repos/gskgithub/virtual_staining/source_code/pix2pixHD_n/train_tesaro.py --dataroot /hpc/projects/upt/samuel_tonks_experimental_space/datasets/Tesaro-DNA-Damage/CellProfiler_Wells/nontoxic/Ovarian/bf_fitc_30k_nontoxic/ --data_type 16 --batchSize 16 --checkpoints_dir /hpc/projects/upt/samuel_tonks_experimental_space/experiments/Tesaro-DNA-Damage/cuong_group_experiments/ACT2_Train/bf_fitc_30k_nontoxic_seed123 --label_nc 0 --name bf_fitc_30k_nontoxic_seed123 --no_instance  --resize_or_crop none --input_nc 1 --output_nc 1 --seed 123 --nThreads 1 --gpu_ids 0 --loadSize 1080 --norm instance --use_dropout  ']"
      ]
     },
     "execution_count": 18,
     "metadata": {},
     "output_type": "execute_result"
    }
   ],
   "source": [
    "x = open(os.path.join(output_dir,'notoxic_phenotype_train_runs.json'))\n",
    "data = json.load(x)\n",
    "data"
   ]
  },
  {
   "cell_type": "markdown",
   "metadata": {},
   "source": [
    "### Update model hyper-paramters\n",
    "\n",
    "See source_code/pix2pixhd/ for full explanation of each of the below hyper-parameters. \n",
    "\n",
    "#### Must update\n",
    "- **'--dataroot'**: path/to/folder/containing/train_A </br>\n",
    "- **'--data_type'**: Bit of input images. Either 8 or 16 "
   ]
  },
  {
   "cell_type": "code",
   "execution_count": null,
   "metadata": {},
   "outputs": [],
   "source": []
  },
  {
   "cell_type": "code",
   "execution_count": 63,
   "metadata": {},
   "outputs": [],
   "source": [
    "for seed in ['42','123']:\n",
    "    arg_dict = {}\n",
    "    arg_dict['--dataroot'] = os.path.join(dataroot\n",
    "    )\n",
    "    arg_dict['--data_type'] = '16'\n",
    "    arg_dict['--batchSize'] = '4'\n",
    "    arg_dict['--checkpoints_dir'] = output_dir \n",
    "    arg_dict['--label_nc'] = '0'\n",
    "    arg_dict['--name'] = model_name\n",
    "    arg_dict['--no_instance'] = ''\n",
    "    arg_dict['--resize_or_crop'] = 'none'\n",
    "    arg_dict['--input_nc'] = '1'\n",
    "    arg_dict['--output_nc'] = '1'\n",
    "    arg_dict['--seed'] = seed\n",
    "\n",
    "    # arg_dict['--no_vgg_loss'] = ''\n",
    "    arg_dict['--nThreads'] = '1'\n",
    "    arg_dict['--gpu_ids'] = '0'\n",
    "    arg_dict['--loadSize'] = '1080'\n",
    "    # arg_dict['--ndf'] = '32'\n",
    "    arg_dict['--norm'] = 'instance'\n",
    "    arg_dict['--use_dropout'] = ''\n",
    "    # arg_dict['--dropout_variation_inf'] = 'False'\n",
    "    ## APEX Training only\n",
    "    # arg_dict['--fp16'] = '' \n",
    "\n",
    "    ## Used only is retraining from epoch\n",
    "    # arg_dict['--continue_train'] = ''\n",
    "    # arg_dict['--which_epoch'] = 'latest'\n",
    "    command = train_pix2pixHD(\n",
    "        py_file,\n",
    "        arg_dict\n",
    "    )\n",
    "    command_list = []\n",
    "    command_list.append(command)\n",
    "    print(command)"
   ]
  },
  {
   "cell_type": "markdown",
   "metadata": {},
   "source": [
    "### Generate  and run slurm command"
   ]
  },
  {
   "cell_type": "code",
   "execution_count": 25,
   "metadata": {
    "scrolled": true
   },
   "outputs": [
    {
     "name": "stdout",
     "output_type": "stream",
     "text": [
      "python /hpc/projects/upt/samuel_tonks_experimental_space/repos/gskgithub/virtual_staining/source_code/pix2pixHD_n/train_tesaro.py --dataroot /hpc/projects/upt/samuel_tonks_experimental_space/datasets/Tesaro-DNA-Damage/Data/Ovarian/Step1_Preprocessing/ACT1_Normalise/bf_fitc_30k_nontoxic/ --data_type 16 --batchSize 16 --checkpoints_dir /hpc/projects/upt/samuel_tonks_experimental_space/experiments/Tesaro-DNA-Damage/cuong_group_experiments/ACT2_Train/bf_fitc_30k_nontoxic_seed123 --label_nc 0 --name bf_fitc_30k_nontoxic_seed123 --no_instance  --resize_or_crop none --input_nc 1 --output_nc 1 --seed 123 --nThreads 1 --gpu_ids 0 --loadSize 1080 --norm instance --use_dropout  \n"
     ]
    }
   ],
   "source": [
    "command = train_pix2pixHD(\n",
    "    py_file,\n",
    "    arg_dict\n",
    ")\n",
    "command_list = []\n",
    "command_list.append(command)\n",
    "print(command)"
   ]
  },
  {
   "cell_type": "code",
   "execution_count": 32,
   "metadata": {},
   "outputs": [
    {
     "name": "stdout",
     "output_type": "stream",
     "text": [
      "Submitted batch job 61836610\n",
      "\n"
     ]
    },
    {
     "data": {
      "text/plain": [
       "'Submitted batch job 61836610\\n'"
      ]
     },
     "execution_count": 32,
     "metadata": {},
     "output_type": "execute_result"
    }
   ],
   "source": [
    "### Job Settings ###\n",
    "job_name = '{}'.format(model_name)\n",
    "\n",
    "node_setting = ''\n",
    "node_setting = node_setting+' --job-name={}'.format(job_name)\n",
    "node_setting = node_setting+' --time=10:00:00'\n",
    "node_setting = node_setting+' --nodes=1'\n",
    "# node_setting = node_setting+' --dependency=afterok:{}'.format('43523352')\n",
    "\n",
    "node_setting = node_setting+' --partition=gpu'\n",
    "node_setting = node_setting+' --gres=gpu:a6000:1'\n",
    "node_setting = node_setting+' --ntasks-per-node=1'\n",
    "node_setting = node_setting+' --output=./slurm_outs/\"slurm-%A_%a.out\"'\n",
    "node_setting = node_setting[1:]\n",
    "\n",
    "os.makedirs('./slurm_outs', exist_ok=True)\n",
    "\n",
    "submit_array(root_dir, command_list, node_setting, job_name,repo_path, conda_path)"
   ]
  },
  {
   "cell_type": "code",
   "execution_count": 28,
   "metadata": {},
   "outputs": [
    {
     "data": {
      "text/plain": [
       "['python /hpc/projects/upt/samuel_tonks_experimental_space/repos/gskgithub/virtual_staining/source_code/pix2pixHD_n/train_tesaro.py --dataroot /hpc/projects/upt/samuel_tonks_experimental_space/datasets/Tesaro-DNA-Damage/Data/Ovarian/Step1_Preprocessing/ACT1_Normalise/bf_fitc_30k_nontoxic/ --data_type 16 --batchSize 16 --checkpoints_dir /hpc/projects/upt/samuel_tonks_experimental_space/experiments/Tesaro-DNA-Damage/cuong_group_experiments/ACT2_Train/bf_fitc_30k_nontoxic_seed123 --label_nc 0 --name bf_fitc_30k_nontoxic_seed123 --no_instance  --resize_or_crop none --input_nc 1 --output_nc 1 --seed 123 --nThreads 1 --gpu_ids 0 --loadSize 1080 --norm instance --use_dropout  ']"
      ]
     },
     "execution_count": 28,
     "metadata": {},
     "output_type": "execute_result"
    }
   ],
   "source": [
    "command_list"
   ]
  },
  {
   "cell_type": "code",
   "execution_count": null,
   "metadata": {},
   "outputs": [],
   "source": []
  }
 ],
 "metadata": {
  "kernelspec": {
   "display_name": "py_3.7_notebook",
   "language": "python",
   "name": "py_3.7_notebook"
  },
  "language_info": {
   "codemirror_mode": {
    "name": "ipython",
    "version": 3
   },
   "file_extension": ".py",
   "mimetype": "text/x-python",
   "name": "python",
   "nbconvert_exporter": "python",
   "pygments_lexer": "ipython3",
   "version": "3.6.13"
  }
 },
 "nbformat": 4,
 "nbformat_minor": 2
}
