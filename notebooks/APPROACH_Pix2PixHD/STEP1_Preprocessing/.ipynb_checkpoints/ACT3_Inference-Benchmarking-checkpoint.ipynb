{
 "cells": [
  {
   "cell_type": "markdown",
   "metadata": {},
   "source": [
    "# ACT3_Inference\n",
    "\n",
    "This notebook is used to run inference on a pre-trained Pix2PixHD GAN model"
   ]
  },
  {
   "cell_type": "markdown",
   "metadata": {},
   "source": [
    "### Load libraries and helper functions"
   ]
  },
  {
   "cell_type": "code",
   "execution_count": 2,
   "metadata": {},
   "outputs": [],
   "source": [
    "import os \n",
    "import sys\n",
    "\n",
    "root_dir = '../../../'\n",
    "sys.path.append(root_dir)\n",
    "\n",
    "from utils.util_utils import create_directory\n",
    "from slurm.commands import test_pix2pixHD\n",
    "from slurm.sbatch import submit_array\n",
    "from slurm.commands import extract_single_predictions\n",
    "from slurm.commands import extract_multiple_predictions\n"
   ]
  },
  {
   "cell_type": "markdown",
   "metadata": {},
   "source": [
    "### Define general hyper-parameters\n",
    "\n",
    " "
   ]
  },
  {
   "cell_type": "code",
   "execution_count": 155,
   "metadata": {},
   "outputs": [],
   "source": [
    "# Define model name\n",
    "#Breast Nontoxic 6858 Toxic 3510\n",
    "#lung and Ovarian Nontoxic: 4806 Toxic 5562\n",
    "toxic = 'nontoxic'\n",
    "tissue = 'Breast'\n",
    "tissue_test = \"Lung\"\n",
    "model_name = 'bf_dna_30k_nontoxic'\n",
    "output_folder_name = f'bf_dna_30k_nontoxic_{tissue_test.lower()}_toxic' #l 21808 B 19150 0 22780\n",
    "# Define total imaes to generate predictions from and epoch (must be multiple of 5) to run inference on.\n",
    "total_test_set_images = '5562'\n",
    "epoch_no = \"latest\"\n",
    "# scratch_folder = \"rdip1\"\n",
    "# Should always be the same path\n",
    "repo_path = os.path.join(\n",
    "    '/hpc/projects/upt/samuel_tonks_experimental_space/repos/gskgithub/virtual_staining/source_code/pix2pixHD_n//',\n",
    "#     'source_code/pix2pixHD/'\n",
    ")\n",
    "\n",
    "# Pix2PixHD conda path (same as train)\n",
    "conda_path = os.path.join(\n",
    "    '/hpc/user_apps/bioimaging_analytics/conda_environments/pix2pixHD_CUDA11/',\n",
    ")\n",
    "\n",
    "# Path to Generator and Discriminator weights \n",
    "model_dir = os.path.join(\n",
    "    f'/hpc/projects/upt/samuel_tonks_experimental_space/experiments/Tesaro-DNA-Damage/cuong_group_experiments/ACT2_Train/',\n",
    "    \n",
    "#     '/hpc/scratch',scratch_folder,'smt29021',\n",
    "#     'Tesaro-DNA-Damage',\n",
    "#     'Data/APPROACH_Pix2PixHD/'+tissue+'/Step1_Preprocessing',\n",
    "#     'ACT2_Train/',\n",
    "    model_name,\n",
    ")\n",
    "\n",
    "# Path to test set images path/should/be/root_folder/test_A\n",
    "input_folder = os.path.join(\n",
    "#     f'/hpc/projects/upt/samuel_tonks_experimental_space/datasets/Tesaro-DNA-Damage/C',\n",
    "    f'/hpc/projects/upt/samuel_tonks_experimental_space/datasets/Tesaro-DNA-Damage/CellProfiler_Wells/toxic/{tissue_test}/ground_truth/brightfield/'\n",
    ")\n",
    "\n",
    "# Path to save model predictions\n",
    "output_dir = os.path.join(\n",
    "#     f'/hpc/projects/upt/samuel_tonks_experimental_space/datasets/Tesaro-DNA-Damage/CellProfiler_Wel/',\n",
    "    '/hpc/projects/upt/samuel_tonks_experimental_space/datasets/Tesaro-DNA-Damage/CellProfiler_Wells/nontoxic/',\n",
    "    tissue,\n",
    "#     output_folder_name,\n",
    ")\n",
    "\n",
    "# Path to neceassry test.py (See somewhere for explanation of which one fits your needs)\n",
    "py_file = os.path.join(\n",
    "        repo_path,\n",
    "        'test_tesaro_benchmarking.py'\n",
    "    )\n"
   ]
  },
  {
   "cell_type": "markdown",
   "metadata": {},
   "source": [
    "### Define epoch to run inf"
   ]
  },
  {
   "cell_type": "code",
   "execution_count": null,
   "metadata": {},
   "outputs": [],
   "source": [
    "with open(os.path.join(model_dir, \"train_val_scores.json\")) as file:\n",
    "    train_val_scores = json.load(file)\n",
    "epochs = [int(i+1) for i in range(len(train_val_scores)//2)]\n",
    "train_ssim = [i['ssim'] for i in train_val_scores if i['dataset'] == 'train']\n",
    "train_psnr = [i['psnr'] for i in train_val_scores if i['dataset'] == 'train']\n",
    "val_ssim = [i['ssim'] for i in train_val_scores if i['dataset'] == 'val']\n",
    "val_psnr = [i['psnr'] for i in train_val_scores if i['dataset'] == 'val']\n",
    "\n",
    "# SSIM\n",
    "plt.xlabel(\"epoch\")\n",
    "plt.ylabel(\"SSIM\")\n",
    "plt.title(\"Train Set vs Validation Set SSIM Score\")\n",
    "plt.plot(epochs,train_ssim,label=\"train\")\n",
    "plt.plot(epochs,val_ssim,label =\"val\")\n",
    "plt.legend()\n",
    "plt.tight_layout()\n",
    "plt.show()\n",
    "\n",
    "# PSNR\n",
    "plt.xlabel(\"epoch\")\n",
    "plt.ylabel(\"PSNR\")\n",
    "plt.title(\"Train Set vs Validation Set PSNR Score\")\n",
    "plt.plot(train_psnr,label=\"train\")\n",
    "plt.plot(val_psnr,label =\"val\")\n",
    "plt.legend()\n",
    "plt.tight_layout()\n",
    "plt.show()"
   ]
  },
  {
   "cell_type": "markdown",
   "metadata": {},
   "source": [
    "### Define model hyper-parameters\n",
    "\n",
    "See ../../source_code/pix2pixHD for detailed breakdown of all hyper-parameters."
   ]
  },
  {
   "cell_type": "code",
   "execution_count": 156,
   "metadata": {},
   "outputs": [
    {
     "name": "stdout",
     "output_type": "stream",
     "text": [
      "Number of Jobs 1\n",
      "['python /hpc/projects/upt/samuel_tonks_experimental_space/repos/gskgithub/virtual_staining/source_code/pix2pixHD_n//test_tesaro.py --checkpoints_dir /hpc/scratch/hdd3/smt29021/Tesaro-DNA-Damage/Data/APPROACH_Pix2PixHD/Ovarian/Step1_Preprocessing/ACT2_Train/bf_dna_30k_nontoxic --dataroot /hpc/projects/upt/samuel_tonks_experimental_space/datasets/Tesaro-DNA-Damage/CellProfiler_Wells/toxic/Lung/ground_truth/brightfield/ --data_type 16 --label_nc 0 --input_nc 1 --output_nc 1 --name bf_dna_30k_nontoxic --no_instance  --resize_or_crop none --gpu_ids 0 --loadSize 1080 --norm instance --output_reshape 1080 --how_many 5562 --results_dir /hpc/projects/upt/samuel_tonks_experimental_space/datasets/Tesaro-DNA-Damage/CellProfiler_Wells/nontoxic/Breast/bf_dna_30k_nontoxic_lung_toxic --which_epoch latest ']\n"
     ]
    }
   ],
   "source": [
    "command_list = []\n",
    "arg_dict = {}\n",
    "    \n",
    "# Align with train\n",
    "arg_dict['--checkpoints_dir'] = model_dir\n",
    "arg_dict['--dataroot'] = input_folder\n",
    "arg_dict['--data_type'] = '16'\n",
    "arg_dict['--label_nc'] = '0'\n",
    "arg_dict['--input_nc'] = '1'\n",
    "arg_dict['--output_nc'] = '1'\n",
    "arg_dict['--name'] = model_name\n",
    "arg_dict['--no_instance'] = ''\n",
    "arg_dict['--resize_or_crop'] = 'none'\n",
    "arg_dict['--gpu_ids'] = '0'\n",
    "arg_dict['--loadSize'] = '1080'\n",
    "arg_dict['--norm'] = 'instance'\n",
    "arg_dict['--output_reshape'] = '1080'  \n",
    "\n",
    "# Inference only\n",
    "arg_dict['--how_many'] = total_test_set_images\n",
    "arg_dict['--results_dir'] = os.path.join(output_dir,output_folder_name)\n",
    "\n",
    "create_directory(os.path.join(output_dir,output_folder_name,model_name,\"test_\"+epoch_no))\n",
    "arg_dict['--which_epoch'] = epoch_no \n",
    "    \n",
    "command = test_pix2pixHD(py_file,arg_dict)\n",
    "command_list.append(command)\n",
    "    \n",
    "print(\"Number of Jobs {}\".format(len(command_list)))\n",
    "print(command_list[:1])\n",
    "      \n"
   ]
  },
  {
   "cell_type": "markdown",
   "metadata": {},
   "source": [
    "### Generate slurm command and schedule"
   ]
  },
  {
   "cell_type": "code",
   "execution_count": 157,
   "metadata": {
    "scrolled": true
   },
   "outputs": [
    {
     "name": "stdout",
     "output_type": "stream",
     "text": [
      "python /hpc/projects/upt/samuel_tonks_experimental_space/repos/gskgithub/virtual_staining/source_code/pix2pixHD_n//test_tesaro.py --checkpoints_dir /hpc/scratch/hdd3/smt29021/Tesaro-DNA-Damage/Data/APPROACH_Pix2PixHD/Ovarian/Step1_Preprocessing/ACT2_Train/bf_dna_30k_nontoxic --dataroot /hpc/projects/upt/samuel_tonks_experimental_space/datasets/Tesaro-DNA-Damage/CellProfiler_Wells/toxic/Lung/ground_truth/brightfield/ --data_type 16 --label_nc 0 --input_nc 1 --output_nc 1 --name bf_dna_30k_nontoxic --no_instance  --resize_or_crop none --gpu_ids 0 --loadSize 1080 --norm instance --output_reshape 1080 --how_many 5562 --results_dir /hpc/projects/upt/samuel_tonks_experimental_space/datasets/Tesaro-DNA-Damage/CellProfiler_Wells/nontoxic/Breast/bf_dna_30k_nontoxic_lung_toxic --which_epoch latest \n"
     ]
    }
   ],
   "source": [
    "command = test_pix2pixHD(\n",
    "    py_file,\n",
    "    arg_dict\n",
    ")\n",
    "\n",
    "command_list = []\n",
    "command_list.append(command)\n",
    "print(command)"
   ]
  },
  {
   "cell_type": "code",
   "execution_count": 158,
   "metadata": {},
   "outputs": [
    {
     "name": "stdout",
     "output_type": "stream",
     "text": [
      "Submitted batch job 61882776\n",
      "\n"
     ]
    }
   ],
   "source": [
    "### Job Settings ###\n",
    "\n",
    "#Single Run\n",
    "\n",
    "job_name = output_folder_name\n",
    "\n",
    "node_setting = ''\n",
    "node_setting = node_setting+' --job-name={}'.format(job_name)\n",
    "node_setting = node_setting+' --time=1:00:00'\n",
    "node_setting = node_setting+' --nodes=1'\n",
    "node_setting = node_setting+' --partition=gpu'\n",
    "node_setting = node_setting+' --gres=gpu:gtx1080ti:1'\n",
    "node_setting = node_setting+' --ntasks-per-node=1'\n",
    "node_setting = node_setting+' --output=./slurm_outs/\"slurm-%A_%a.out\"'\n",
    "node_setting = node_setting[1:]\n",
    "\n",
    "os.makedirs('./slurm_outs', exist_ok=True)\n",
    "\n",
    "\n",
    "jobid = submit_array(root_dir, command_list, node_setting, job_name, repo_path,conda_path)"
   ]
  },
  {
   "cell_type": "markdown",
   "metadata": {},
   "source": [
    "## Post inference image processing\n",
    "\n",
    "### Extract input image, ground truth target and model prediction and place into A, B and fake_b folders."
   ]
  },
  {
   "cell_type": "markdown",
   "metadata": {},
   "source": [
    "#### Define paramtere"
   ]
  },
  {
   "cell_type": "code",
   "execution_count": 89,
   "metadata": {},
   "outputs": [
    {
     "data": {
      "text/plain": [
       "'54742419'"
      ]
     },
     "execution_count": 89,
     "metadata": {},
     "output_type": "execute_result"
    }
   ],
   "source": [
    "# Extract Job id from previous run to ensure this only runs when the inference has been run successfully\n",
    "pre_process_jid = jobid[-9:-1]\n",
    "\n",
    "# New conda env is require for moving\n",
    "conda_path = os.path.join(\"/hpc/scratch/hdd2/smt29021/conda_envs/py_3.7_environment\")\n",
    "\n",
    "root_folder2 = os.path.join(\n",
    "    \"/hpc/scratch/hdd3/smt29021\",\n",
    "    \"Tesaro-DNA-Damage/Data\",\n",
    "#     \"APPROACH_Pix2PixHD\",\n",
    "    tissue,\n",
    "    \"Step1_Preprocessing/\"\n",
    ")\n",
    "\n",
    "# Path for ground truth B\n",
    "ground_truth_target_path = os.path.join(input_folder,\n",
    "                           \"test_B/\")\n",
    "\n",
    "# Path for workflow folder\n",
    "repo_path = os.path.join(\"/hpc/scratch/nvme3/smt29021/phase1_repo_1122/Structure-Specific-Contrast-Enhancement/\",\n",
    "                       \"workflow/phase4_inference\"\n",
    "                      )\n",
    "# Path for python file\n",
    "py_file = os.path.join(repo_path,\n",
    "                       \"phase4.3_extract_predictions.py\"\n",
    "                      )\n",
    "\n",
    "pre_process_jid"
   ]
  },
  {
   "cell_type": "code",
   "execution_count": 90,
   "metadata": {},
   "outputs": [
    {
     "name": "stdout",
     "output_type": "stream",
     "text": [
      "Number of Jobs 1\n"
     ]
    },
    {
     "data": {
      "text/plain": [
       "['python /hpc/scratch/nvme3/smt29021/phase1_repo_1122/Structure-Specific-Contrast-Enhancement/workflow/phase4_inference/phase4.3_extract_predictions.py --model Pix2PixHD --model_name bf_fitc_30k_nontoxic_inf_ovarian/bf_fitc_30k_nontoxic --epoch_no 50 --model_output_path /hpc/scratch/hdd3/smt29021/Tesaro-DNA-Damage/Data/APPROACH_Pix2PixHD/Lung/Step1_Preprocessing/ACT3_Evaluate/bf_fitc_30k_nontoxic_inf_ovarian/bf_fitc_30k_nontoxic/test_50 --testset_path /hpc/scratch/hdd3/smt29021/Tesaro-DNA-Damage/Data/Ovarian/Step1_Preprocessing/ACT1_Normalise/bf_fitc_30k_nontoxic/test_B/ --number_of_runs 1']"
      ]
     },
     "execution_count": 90,
     "metadata": {},
     "output_type": "execute_result"
    }
   ],
   "source": [
    "command_list = []\n",
    "model_output_path= os.path.join(\n",
    "    output_dir,\n",
    "    os.path.join(output_folder_name,model_name),\n",
    "    \"test_\"+epoch_no\n",
    "    )\n",
    "\n",
    "command = \\\n",
    "extract_single_predictions(\n",
    "    py_file,\n",
    "    \"Pix2PixHD\",\n",
    "    os.path.join(output_folder_name,model_name),\n",
    "    epoch_no,\n",
    "    model_output_path,\n",
    "    ground_truth_target_path,\n",
    "    number_of_runs=1)\n",
    "command_list.append(command)\n",
    "print(\"Number of Jobs {}\".format(len(command_list)))\n",
    "command_list[:2]\n"
   ]
  },
  {
   "cell_type": "markdown",
   "metadata": {},
   "source": [
    "### Run Slurm command and move predictions"
   ]
  },
  {
   "cell_type": "code",
   "execution_count": 91,
   "metadata": {},
   "outputs": [
    {
     "name": "stdout",
     "output_type": "stream",
     "text": [
      "Submitted batch job 54742426\n",
      "\n"
     ]
    }
   ],
   "source": [
    "### Job Settings ###\n",
    "job_name = '_{}'.format(model_name)\n",
    "node_setting = ''\n",
    "node_setting = node_setting+' --job-name={}'.format(job_name)\n",
    "node_setting = node_setting+' --dependency=afterok:{}'.format(pre_process_jid)\n",
    "node_setting = node_setting+' --time=12:00:00'\n",
    "node_setting = node_setting+' --nodes=1'\n",
    "node_setting = node_setting+' --partition=cpu'\n",
    "node_setting = node_setting+' --ntasks-per-node=1'\n",
    "node_setting = node_setting+' --mem=16000'\n",
    "node_setting = node_setting+' --output=./slurm_outs/\"slurm-%A_%a.out\"'\n",
    "node_setting = node_setting[1:]\n",
    "\n",
    "os.makedirs('./slurm_outs', exist_ok=True)\n",
    "\n",
    "jobid = submit_array(root_dir, command_list, node_setting, job_name,repo_path,conda_path)\n",
    "\n",
    "# End"
   ]
  },
  {
   "cell_type": "code",
   "execution_count": null,
   "metadata": {},
   "outputs": [],
   "source": [
    "# Extract Job id from previous run to ensure this only runs when the inference has been run successfully\n",
    "pre_process_jid = jobid[-9:-1]\n",
    "\n",
    "# New conda env is require for moving\n",
    "conda_path = os.path.join(\"/hpc/scratch/hdd2/smt29021/conda_envs/py_3.7_environment\")\n",
    "\n",
    "root_folder2 = os.path.join(\n",
    "    \"/hpc/scratch/hdd3/smt29021\",\n",
    "    \"Tesaro-DNA-Damage/Data\",\n",
    "#     \"APPROACH_Pix2PixHD\",\n",
    "    tissue,\n",
    "    \"Step1_Preprocessing/\"\n",
    ")\n",
    "\n",
    "# Path for ground truth B\n",
    "ground_truth_target_path = os.path.join(input_folder,\n",
    "                           \"test_B/\")\n",
    "\n",
    "# Path for workflow folder\n",
    "repo_path = os.path.join(\"/hpc/projects/upt/samuel_tonks_experimental_space/repos/gskgithub/virtual_staining/workflow/phase2_sampling_normalisation/8bit_minmax_norm_cp.py\"\n",
    "                      )\n",
    "# Path for python file\n",
    "py_file = os.path.join(repo_path,\n",
    "                       \"phase4.3_extract_predictions.py\"\n",
    "                      )\n",
    "\n",
    "\n",
    "\n"
   ]
  },
  {
   "cell_type": "code",
   "execution_count": null,
   "metadata": {},
   "outputs": [],
   "source": [
    "pre_process_jid\n",
    "\n",
    "command_list = []\n",
    "model_output_path= os.path.join(\n",
    "    output_dir,\n",
    "    os.path.join(output_folder_name,model_name),\n",
    "    \"test_\"+epoch_no\n",
    "    )\n",
    "\n",
    "command = \\\n",
    "extract_single_predictions(\n",
    "    py_file,\n",
    "    \"Pix2PixHD\",\n",
    "    os.path.join(output_folder_name,model_name),\n",
    "    epoch_no,\n",
    "    model_output_path,\n",
    "    ground_truth_target_path,\n",
    "    number_of_runs=1)\n",
    "command_list.append(command)\n",
    "print(\"Number of Jobs {}\".format(len(command_list)))\n",
    "command_list[:2]\n"
   ]
  },
  {
   "cell_type": "code",
   "execution_count": null,
   "metadata": {},
   "outputs": [],
   "source": [
    "### Run Slurm command and move predictions\n",
    "\n",
    "### Job Settings ###\n",
    "job_name = '_{}'.format(model_name)\n",
    "node_setting = ''\n",
    "node_setting = node_setting+' --job-name={}'.format(job_name)\n",
    "node_setting = node_setting+' --dependency=afterok:{}'.format(pre_process_jid)\n",
    "node_setting = node_setting+' --time=12:00:00'\n",
    "node_setting = node_setting+' --nodes=1'\n",
    "node_setting = node_setting+' --partition=cpu'\n",
    "node_setting = node_setting+' --ntasks-per-node=1'\n",
    "node_setting = node_setting+' --mem=16000'\n",
    "node_setting = node_setting+' --output=./slurm_outs/\"slurm-%A_%a.out\"'\n",
    "node_setting = node_setting[1:]\n",
    "\n",
    "os.makedirs('./slurm_outs', exist_ok=True)\n",
    "\n",
    "jobid = submit_array(root_dir, command_list, node_setting, job_name,repo_path,conda_path)\n",
    "\n",
    "# End\n",
    "\n"
   ]
  },
  {
   "cell_type": "code",
   "execution_count": null,
   "metadata": {},
   "outputs": [],
   "source": []
  },
  {
   "cell_type": "code",
   "execution_count": null,
   "metadata": {},
   "outputs": [],
   "source": []
  }
 ],
 "metadata": {
  "kernelspec": {
   "display_name": "pytorch_cyc_pix",
   "language": "python",
   "name": "pytorch_cyc_pix"
  },
  "language_info": {
   "codemirror_mode": {
    "name": "ipython",
    "version": 3
   },
   "file_extension": ".py",
   "mimetype": "text/x-python",
   "name": "python",
   "nbconvert_exporter": "python",
   "pygments_lexer": "ipython3",
   "version": "3.6.13"
  }
 },
 "nbformat": 4,
 "nbformat_minor": 2
}
