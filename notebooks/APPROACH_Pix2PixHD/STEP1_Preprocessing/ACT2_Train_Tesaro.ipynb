{
 "cells": [
  {
   "cell_type": "markdown",
   "metadata": {},
   "source": [
    "# Training\n",
    "\n",
    "Having successfully moved the dataset into the required location and format you are now ready to begin training of the model. This notebook is used to define the hyper-paramters neceassary for training the Pix2PixHD GAN model as well as scheduling the training within HPC environment. "
   ]
  },
  {
   "cell_type": "markdown",
   "metadata": {},
   "source": [
    "### Load libraries and helper functions"
   ]
  },
  {
   "cell_type": "code",
   "execution_count": 1,
   "metadata": {},
   "outputs": [],
   "source": [
    "import os \n",
    "import sys\n",
    "\n",
    "\n",
    "root_dir = '../../../'\n",
    "sys.path.append(root_dir)\n",
    "\n",
    "from slurm.commands import train_pix2pixHD\n",
    "from slurm.sbatch import submit_array"
   ]
  },
  {
   "cell_type": "code",
   "execution_count": 2,
   "metadata": {},
   "outputs": [
    {
     "name": "stdout",
     "output_type": "stream",
     "text": [
      "4806\n"
     ]
    },
    {
     "ename": "IsADirectoryError",
     "evalue": "[Errno 21] Is a directory: '/hpc/projects/upt/bioimaging_analytics/Tesaro-DNA-Damage/2020-09'",
     "output_type": "error",
     "traceback": [
      "\u001b[0;31m---------------------------------------------------------------------------\u001b[0m",
      "\u001b[0;31mIsADirectoryError\u001b[0m                         Traceback (most recent call last)",
      "\u001b[0;32m<ipython-input-2-a82a5dc48578>\u001b[0m in \u001b[0;36m<module>\u001b[0;34m\u001b[0m\n\u001b[1;32m     40\u001b[0m                 \u001b[0;32mif\u001b[0m \u001b[0mc\u001b[0m \u001b[0;34m==\u001b[0m\u001b[0;34m'Ovarian'\u001b[0m\u001b[0;34m:\u001b[0m\u001b[0;34m\u001b[0m\u001b[0;34m\u001b[0m\u001b[0m\n\u001b[1;32m     41\u001b[0m                     \u001b[0min_path\u001b[0m \u001b[0;34m=\u001b[0m \u001b[0;34mf'{in_path}ELN15212_Lu_Ov__DNA_Damage_Val_091020/ELN15212_Lu_Ov_DNA_Damage_Val_Data/Ovarian/3CG0022780__2020-09-14T14_19_12-Measurement1/Images/{fullname}'\u001b[0m\u001b[0;34m\u001b[0m\u001b[0;34m\u001b[0m\u001b[0m\n\u001b[0;32m---> 42\u001b[0;31m                 \u001b[0mtmp\u001b[0m \u001b[0;34m=\u001b[0m \u001b[0mimread\u001b[0m\u001b[0;34m(\u001b[0m\u001b[0min_path\u001b[0m\u001b[0;34m)\u001b[0m\u001b[0;34m\u001b[0m\u001b[0;34m\u001b[0m\u001b[0m\n\u001b[0m\u001b[1;32m     43\u001b[0m             \u001b[0;31m#     tmp_8bit = normalize(tmp)\u001b[0m\u001b[0;34m\u001b[0m\u001b[0;34m\u001b[0m\u001b[0;34m\u001b[0m\u001b[0m\n\u001b[1;32m     44\u001b[0m \u001b[0;31m#                 tmp_8bit = center_crop(tmp)\u001b[0m\u001b[0;34m\u001b[0m\u001b[0;34m\u001b[0m\u001b[0;34m\u001b[0m\u001b[0m\n",
      "\u001b[0;32m~/.local/lib/python3.6/site-packages/tifffile/tifffile.py\u001b[0m in \u001b[0;36mimread\u001b[0;34m(files, **kwargs)\u001b[0m\n\u001b[1;32m    442\u001b[0m \u001b[0;34m\u001b[0m\u001b[0m\n\u001b[1;32m    443\u001b[0m     \u001b[0;32mif\u001b[0m \u001b[0misinstance\u001b[0m\u001b[0;34m(\u001b[0m\u001b[0mfiles\u001b[0m\u001b[0;34m,\u001b[0m \u001b[0mbasestring\u001b[0m\u001b[0;34m)\u001b[0m \u001b[0;32mor\u001b[0m \u001b[0mhasattr\u001b[0m\u001b[0;34m(\u001b[0m\u001b[0mfiles\u001b[0m\u001b[0;34m,\u001b[0m \u001b[0;34m'seek'\u001b[0m\u001b[0;34m)\u001b[0m\u001b[0;34m:\u001b[0m\u001b[0;34m\u001b[0m\u001b[0;34m\u001b[0m\u001b[0m\n\u001b[0;32m--> 444\u001b[0;31m         \u001b[0;32mwith\u001b[0m \u001b[0mTiffFile\u001b[0m\u001b[0;34m(\u001b[0m\u001b[0mfiles\u001b[0m\u001b[0;34m,\u001b[0m \u001b[0;34m**\u001b[0m\u001b[0mkwargs_file\u001b[0m\u001b[0;34m)\u001b[0m \u001b[0;32mas\u001b[0m \u001b[0mtif\u001b[0m\u001b[0;34m:\u001b[0m\u001b[0;34m\u001b[0m\u001b[0;34m\u001b[0m\u001b[0m\n\u001b[0m\u001b[1;32m    445\u001b[0m             \u001b[0;32mreturn\u001b[0m \u001b[0mtif\u001b[0m\u001b[0;34m.\u001b[0m\u001b[0masarray\u001b[0m\u001b[0;34m(\u001b[0m\u001b[0;34m**\u001b[0m\u001b[0mkwargs\u001b[0m\u001b[0;34m)\u001b[0m\u001b[0;34m\u001b[0m\u001b[0;34m\u001b[0m\u001b[0m\n\u001b[1;32m    446\u001b[0m     \u001b[0;32melse\u001b[0m\u001b[0;34m:\u001b[0m\u001b[0;34m\u001b[0m\u001b[0;34m\u001b[0m\u001b[0m\n",
      "\u001b[0;32m~/.local/lib/python3.6/site-packages/tifffile/tifffile.py\u001b[0m in \u001b[0;36m__init__\u001b[0;34m(self, arg, name, offset, size, multifile, movie, **kwargs)\u001b[0m\n\u001b[1;32m   1743\u001b[0m                 \u001b[0;32mraise\u001b[0m \u001b[0mTypeError\u001b[0m\u001b[0;34m(\u001b[0m\u001b[0;34m'unexpected keyword argument: %s'\u001b[0m \u001b[0;34m%\u001b[0m \u001b[0mkey\u001b[0m\u001b[0;34m)\u001b[0m\u001b[0;34m\u001b[0m\u001b[0;34m\u001b[0m\u001b[0m\n\u001b[1;32m   1744\u001b[0m \u001b[0;34m\u001b[0m\u001b[0m\n\u001b[0;32m-> 1745\u001b[0;31m         \u001b[0mfh\u001b[0m \u001b[0;34m=\u001b[0m \u001b[0mFileHandle\u001b[0m\u001b[0;34m(\u001b[0m\u001b[0marg\u001b[0m\u001b[0;34m,\u001b[0m \u001b[0mmode\u001b[0m\u001b[0;34m=\u001b[0m\u001b[0;34m'rb'\u001b[0m\u001b[0;34m,\u001b[0m \u001b[0mname\u001b[0m\u001b[0;34m=\u001b[0m\u001b[0mname\u001b[0m\u001b[0;34m,\u001b[0m \u001b[0moffset\u001b[0m\u001b[0;34m=\u001b[0m\u001b[0moffset\u001b[0m\u001b[0;34m,\u001b[0m \u001b[0msize\u001b[0m\u001b[0;34m=\u001b[0m\u001b[0msize\u001b[0m\u001b[0;34m)\u001b[0m\u001b[0;34m\u001b[0m\u001b[0;34m\u001b[0m\u001b[0m\n\u001b[0m\u001b[1;32m   1746\u001b[0m         \u001b[0mself\u001b[0m\u001b[0;34m.\u001b[0m\u001b[0m_fh\u001b[0m \u001b[0;34m=\u001b[0m \u001b[0mfh\u001b[0m\u001b[0;34m\u001b[0m\u001b[0;34m\u001b[0m\u001b[0m\n\u001b[1;32m   1747\u001b[0m         \u001b[0mself\u001b[0m\u001b[0;34m.\u001b[0m\u001b[0m_multifile\u001b[0m \u001b[0;34m=\u001b[0m \u001b[0mbool\u001b[0m\u001b[0;34m(\u001b[0m\u001b[0mmultifile\u001b[0m\u001b[0;34m)\u001b[0m\u001b[0;34m\u001b[0m\u001b[0;34m\u001b[0m\u001b[0m\n",
      "\u001b[0;32m~/.local/lib/python3.6/site-packages/tifffile/tifffile.py\u001b[0m in \u001b[0;36m__init__\u001b[0;34m(self, file, mode, name, offset, size)\u001b[0m\n\u001b[1;32m   4681\u001b[0m         \u001b[0mself\u001b[0m\u001b[0;34m.\u001b[0m\u001b[0mis_file\u001b[0m \u001b[0;34m=\u001b[0m \u001b[0;32mFalse\u001b[0m\u001b[0;34m\u001b[0m\u001b[0;34m\u001b[0m\u001b[0m\n\u001b[1;32m   4682\u001b[0m         \u001b[0mself\u001b[0m\u001b[0;34m.\u001b[0m\u001b[0m_lock\u001b[0m \u001b[0;34m=\u001b[0m \u001b[0mNullContext\u001b[0m\u001b[0;34m(\u001b[0m\u001b[0;34m)\u001b[0m\u001b[0;34m\u001b[0m\u001b[0;34m\u001b[0m\u001b[0m\n\u001b[0;32m-> 4683\u001b[0;31m         \u001b[0mself\u001b[0m\u001b[0;34m.\u001b[0m\u001b[0mopen\u001b[0m\u001b[0;34m(\u001b[0m\u001b[0;34m)\u001b[0m\u001b[0;34m\u001b[0m\u001b[0;34m\u001b[0m\u001b[0m\n\u001b[0m\u001b[1;32m   4684\u001b[0m \u001b[0;34m\u001b[0m\u001b[0m\n\u001b[1;32m   4685\u001b[0m     \u001b[0;32mdef\u001b[0m \u001b[0mopen\u001b[0m\u001b[0;34m(\u001b[0m\u001b[0mself\u001b[0m\u001b[0;34m)\u001b[0m\u001b[0;34m:\u001b[0m\u001b[0;34m\u001b[0m\u001b[0;34m\u001b[0m\u001b[0m\n",
      "\u001b[0;32m~/.local/lib/python3.6/site-packages/tifffile/tifffile.py\u001b[0m in \u001b[0;36mopen\u001b[0;34m(self)\u001b[0m\n\u001b[1;32m   4694\u001b[0m             \u001b[0mself\u001b[0m\u001b[0;34m.\u001b[0m\u001b[0m_file\u001b[0m \u001b[0;34m=\u001b[0m \u001b[0mos\u001b[0m\u001b[0;34m.\u001b[0m\u001b[0mpath\u001b[0m\u001b[0;34m.\u001b[0m\u001b[0mrealpath\u001b[0m\u001b[0;34m(\u001b[0m\u001b[0mself\u001b[0m\u001b[0;34m.\u001b[0m\u001b[0m_file\u001b[0m\u001b[0;34m)\u001b[0m\u001b[0;34m\u001b[0m\u001b[0;34m\u001b[0m\u001b[0m\n\u001b[1;32m   4695\u001b[0m             \u001b[0mself\u001b[0m\u001b[0;34m.\u001b[0m\u001b[0m_dir\u001b[0m\u001b[0;34m,\u001b[0m \u001b[0mself\u001b[0m\u001b[0;34m.\u001b[0m\u001b[0m_name\u001b[0m \u001b[0;34m=\u001b[0m \u001b[0mos\u001b[0m\u001b[0;34m.\u001b[0m\u001b[0mpath\u001b[0m\u001b[0;34m.\u001b[0m\u001b[0msplit\u001b[0m\u001b[0;34m(\u001b[0m\u001b[0mself\u001b[0m\u001b[0;34m.\u001b[0m\u001b[0m_file\u001b[0m\u001b[0;34m)\u001b[0m\u001b[0;34m\u001b[0m\u001b[0;34m\u001b[0m\u001b[0m\n\u001b[0;32m-> 4696\u001b[0;31m             \u001b[0mself\u001b[0m\u001b[0;34m.\u001b[0m\u001b[0m_fh\u001b[0m \u001b[0;34m=\u001b[0m \u001b[0mopen\u001b[0m\u001b[0;34m(\u001b[0m\u001b[0mself\u001b[0m\u001b[0;34m.\u001b[0m\u001b[0m_file\u001b[0m\u001b[0;34m,\u001b[0m \u001b[0mself\u001b[0m\u001b[0;34m.\u001b[0m\u001b[0m_mode\u001b[0m\u001b[0;34m)\u001b[0m\u001b[0;34m\u001b[0m\u001b[0;34m\u001b[0m\u001b[0m\n\u001b[0m\u001b[1;32m   4697\u001b[0m             \u001b[0mself\u001b[0m\u001b[0;34m.\u001b[0m\u001b[0m_close\u001b[0m \u001b[0;34m=\u001b[0m \u001b[0;32mTrue\u001b[0m\u001b[0;34m\u001b[0m\u001b[0;34m\u001b[0m\u001b[0m\n\u001b[1;32m   4698\u001b[0m             \u001b[0;32mif\u001b[0m \u001b[0mself\u001b[0m\u001b[0;34m.\u001b[0m\u001b[0m_offset\u001b[0m \u001b[0;32mis\u001b[0m \u001b[0;32mNone\u001b[0m\u001b[0;34m:\u001b[0m\u001b[0;34m\u001b[0m\u001b[0;34m\u001b[0m\u001b[0m\n",
      "\u001b[0;31mIsADirectoryError\u001b[0m: [Errno 21] Is a directory: '/hpc/projects/upt/bioimaging_analytics/Tesaro-DNA-Damage/2020-09'"
     ]
    }
   ],
   "source": [
    "import numpy as np\n",
    "from tifffile import imread, imsave\n",
    "phen = ['nontoxic','toxic']\n",
    "celltypes = ['lung','ovarian', 'breast']\n",
    "stains = ['dna','fitc', 'cy5']\n",
    "\n",
    "for p in phen:\n",
    "    for c in celltypes:\n",
    "        for s in stains:\n",
    "            input_dir =f'/hpc/projects/upt/samuel_tonks_experimental_space/experiments/Tesaro-DNA-Damage/cuong_group_experiments/8bit_testsets_benchmarking/{p}/{c}_{s}/'\n",
    "            output_dir =f'/hpc/projects/upt/samuel_tonks_experimental_space/experiments/Tesaro-DNA-Damage/cuong_group_experiments/16bit_benchmark_images_3/{p}/{c}_{s}/'\n",
    "            if not os.path.exists(output_dir):\n",
    "                os.makedirs(output_dir)               \n",
    "\n",
    "            input_paths = [files for _, _, files in os.walk(input_dir)]\n",
    "            names = []\n",
    "            for folder in input_paths:\n",
    "                for i in range(len(folder)):\n",
    "                    if folder[i][-6:] != 'k.tiff' and folder[i][-4:] == 'tiff'  :\n",
    "                        names.append(folder[i][:20])\n",
    "            names = list(set(names))\n",
    "            print(len(names))\n",
    "#             print(names)\n",
    "            for n in names:\n",
    "                name = n.split('_')[1][:9]\n",
    "                if s == 'dna':\n",
    "                    fullname = f'{name}p01-ch1sk1fk1fl1.tiff'\n",
    "                    final_name = f'{n}p01_1.tiff'\n",
    "                \n",
    "                elif s == 'cy5':\n",
    "                    fullname = f'{name}p01-ch4sk1fk1fl1.tiff'\n",
    "                    final_name = f'{n}p01_4.tiff'\n",
    "                \n",
    "                else:\n",
    "                    fullname = f'{name}p01-ch3sk1fk1fl1.tiff'\n",
    "                    final_name = f'{n}p01_3.tiff'\n",
    "                \n",
    "#                 print(fullname)\n",
    "                in_path = f'/hpc/projects/upt/bioimaging_analytics/Tesaro-DNA-Damage/2020-09/'\n",
    "                if c =='Ovarian':\n",
    "                    in_path = f'{in_path}ELN15212_Lu_Ov__DNA_Damage_Val_091020/ELN15212_Lu_Ov_DNA_Damage_Val_Data/Ovarian/3CG0022780__2020-09-14T14_19_12-Measurement1/Images/{fullname}'\n",
    "                tmp = imread(in_path)\n",
    "            #     tmp_8bit = normalize(tmp)\n",
    "#                 tmp_8bit = center_crop(tmp)\n",
    "#                 print(tmp_8bit.shape)\n",
    "#                 final_name = f'{i}p01.tiff'\n",
    "                final_path = f'{output_dir}/{final_name}'\n",
    "#                 print(final_path)\n",
    "                imsave(final_path,tmp.astype(np.uint16),imagej=True)\n",
    "\n"
   ]
  },
  {
   "cell_type": "code",
   "execution_count": 6,
   "metadata": {},
   "outputs": [
    {
     "name": "stdout",
     "output_type": "stream",
     "text": [
      "python /hpc/projects/upt/samuel_tonks_experimental_space/repos/gskgithub/virtual_staining/source_code/pix2pixHD_n/train_tesaro.py --dataroot /hpc/scratch/rdip1/smt29021/Tesaro-DNA-Damage/Data/APPROACH_Pix2PixHD/Ovarian/Step1_Preprocessing/ACT1_Normalise/bf_dna_16bit_ovarian_val_30000imgs/ --data_type 16 --batchSize 4 --checkpoints_dir /hpc/projects/upt/samuel_tonks_experimental_space/experiments/Semantic_Uncertainty/ACT2_Train/bf_dna_healthy_pe01_16bit_test_on_bf_dna_ovarian --label_nc 0 --name bf_dna_healthy_pe01_16bit_test_on_bf_dna_ovarian --no_instance  --resize_or_crop none --input_nc 1 --output_nc 1 --seed 42 --nThreads 1 --gpu_ids 0 --loadSize 1080 --norm instance --use_dropout  \n",
      "Submitted batch job 292164\n",
      "\n"
     ]
    },
    {
     "data": {
      "text/plain": [
       "'Submitted batch job 292164\\n'"
      ]
     },
     "execution_count": 6,
     "metadata": {},
     "output_type": "execute_result"
    }
   ],
   "source": [
    "# stains = ['dna','Cy5','FITC']\n",
    "# celltypes = ['Breast','Lung','Ovarian']\n",
    "# command_list = []\n",
    "# # phentypes = ['toxic']\n",
    "# for stain in stains:\n",
    "#     for celltype in celltypes:\n",
    "        # Define a model name\n",
    "command_list = []\n",
    "model_name = f'bf_dna_healthy_pe01_16bit_test_on_bf_dna_ovarian' #'dapi_HE_run_32float'\n",
    "# Path for conda environment \n",
    "conda_path = os.path.join(\n",
    "'/hpc/user_apps/bioimaging_analytics/conda_environments/pix2pixHD_CUDA11',\n",
    "#     'pytorch_1.8.1_py3.7',\n",
    ")\n",
    "\n",
    "# Path for location of source code\n",
    "repo_path = os.path.join(\n",
    "'/hpc/projects/upt/samuel_tonks_experimental_space/repos/gskgithub/virtual_staining/source_code/pix2pixHD_n/train_tesaro.py')\n",
    "dataroot = os.path.join(\n",
    "# f'/hpc/projects/upt/samuel_tonks_experimental_space/experiments/Semantic_Uncertainty/train_test_data_healthy_single_cell_line/')\n",
    "              f'/hpc/scratch/rdip1/smt29021/Tesaro-DNA-Damage/Data/APPROACH_Pix2PixHD/Ovarian/Step1_Preprocessing/ACT1_Normalise/bf_dna_16bit_ovarian_val_30000imgs/' #, model_name )\n",
    ")\n",
    "# Path for saving training outputs including weights and validation scores\n",
    "output_dir = os.path.join(\n",
    "'/hpc/projects/upt/samuel_tonks_experimental_space/experiments/Semantic_Uncertainty/ACT2_Train/',\n",
    "#     'APPROACH_Pix2PixHD',\n",
    "#     cell_type,\n",
    "#     'Step1_Preprocessing',\n",
    "#     'ACT2_Train',\n",
    "#             model_name,\n",
    ")\n",
    "\n",
    "# Path for chosen training file see source code for explanation of files to choose from.\n",
    "py_file = os.path.join(\n",
    "repo_path,\n",
    "#             'train_16bit.py'\n",
    ")\n",
    "arg_dict = {}\n",
    "arg_dict['--dataroot'] = dataroot\n",
    "arg_dict['--data_type'] = '16'\n",
    "arg_dict['--batchSize'] = '4'\n",
    "arg_dict['--checkpoints_dir'] = os.path.join(output_dir,f'{model_name}') \n",
    "arg_dict['--label_nc'] = '0'\n",
    "arg_dict['--name'] = f'{model_name}'\n",
    "arg_dict['--no_instance'] = ''\n",
    "arg_dict['--resize_or_crop'] = 'none'\n",
    "arg_dict['--input_nc'] = '1'\n",
    "arg_dict['--output_nc'] = '1'\n",
    "arg_dict['--seed'] = '42'\n",
    "\n",
    "# arg_dict['--no_vgg_loss'] = ''\n",
    "arg_dict['--nThreads'] = '1'\n",
    "arg_dict['--gpu_ids'] = '0'\n",
    "arg_dict['--loadSize'] = '1080'\n",
    "# arg_dict['--ndf'] = '32'\n",
    "arg_dict['--norm'] = 'instance'\n",
    "arg_dict['--use_dropout'] = ''\n",
    "# arg_dict['--dropout_variation_inf'] = 'False'\n",
    "## APEX Training only\n",
    "# arg_dict['--fp16'] = '' \n",
    "\n",
    "## Used only is retraining from epoch\n",
    "# arg_dict['--continue_train'] = ''\n",
    "# arg_dict['--which_epoch'] = 'latest'\n",
    "command = train_pix2pixHD(\n",
    "    py_file,\n",
    "    arg_dict)\n",
    "command_list.append(command)\n",
    "\n",
    "print(command)\n",
    "### Job Settings ###\n",
    "job_name = '{}'.format(model_name)\n",
    "\n",
    "node_setting = ''\n",
    "node_setting = node_setting+' --job-name={}'.format(job_name)\n",
    "node_setting = node_setting+' --time=1-00:00'\n",
    "node_setting = node_setting+' --nodes=1'\n",
    "# node_setting = node_setting+' --dependency=afterok:{}'.format('43523352')\n",
    "\n",
    "node_setting = node_setting+' --partition=gpu'\n",
    "node_setting = node_setting+' --gres=gpu:a6000:1'\n",
    "node_setting = node_setting+' --ntasks-per-node=1'\n",
    "node_setting = node_setting+' --output=./slurm_outs/\"slurm-%A_%a.out\"'\n",
    "node_setting = node_setting[1:]\n",
    "\n",
    "os.makedirs('./slurm_outs', exist_ok=True)\n",
    "\n",
    "submit_array(root_dir, command_list, node_setting, job_name,repo_path, conda_path)"
   ]
  },
  {
   "cell_type": "code",
   "execution_count": 15,
   "metadata": {},
   "outputs": [
    {
     "data": {
      "text/plain": [
       "18"
      ]
     },
     "execution_count": 15,
     "metadata": {},
     "output_type": "execute_result"
    }
   ],
   "source": [
    "len(command_list)"
   ]
  },
  {
   "cell_type": "markdown",
   "metadata": {},
   "source": [
    "### Define general paramters"
   ]
  },
  {
   "cell_type": "code",
   "execution_count": 3,
   "metadata": {},
   "outputs": [
    {
     "name": "stdout",
     "output_type": "stream",
     "text": [
      "python /hpc/projects/upt/samuel_tonks_experimental_space/repos/gskgithub/virtual_staining/source_code/pix2pixHD_n/train_tesaro.py --dataroot /hpc/scratch/rdip1/smt29021/Tesaro-DNA-Damage/Data/APPROACH_Pix2PixHD//Breast/Step1_Preprocessing/ACT1_Normalise/bf_dna_16bit_breast_val_30000imgs/ --data_type 16 --batchSize 16 --checkpoints_dir /hpc/projects/upt/samuel_tonks_experimental_space/experiments/Tesaro-DNA-Damage/cuong_group_experiments/ACT2_Train/bf_dna_16bit_breast_val_30000imgs_seed42 --label_nc 0 --name bf_dna_16bit_breast_val_30000imgs_seed42 --no_instance  --resize_or_crop none --input_nc 1 --output_nc 1 --seed 42 --nThreads 1 --gpu_ids 0 --loadSize 1080 --norm instance --use_dropout  \n",
      "python /hpc/projects/upt/samuel_tonks_experimental_space/repos/gskgithub/virtual_staining/source_code/pix2pixHD_n/train_tesaro.py --dataroot /hpc/scratch/rdip1/smt29021/Tesaro-DNA-Damage/Data/APPROACH_Pix2PixHD//Breast/Step1_Preprocessing/ACT1_Normalise/bf_dna_16bit_breast_val_30000imgs/ --data_type 16 --batchSize 16 --checkpoints_dir /hpc/projects/upt/samuel_tonks_experimental_space/experiments/Tesaro-DNA-Damage/cuong_group_experiments/ACT2_Train/bf_dna_16bit_breast_val_30000imgs_seed123 --label_nc 0 --name bf_dna_16bit_breast_val_30000imgs_seed123 --no_instance  --resize_or_crop none --input_nc 1 --output_nc 1 --seed 123 --nThreads 1 --gpu_ids 0 --loadSize 1080 --norm instance --use_dropout  \n",
      "python /hpc/projects/upt/samuel_tonks_experimental_space/repos/gskgithub/virtual_staining/source_code/pix2pixHD_n/train_tesaro.py --dataroot /hpc/scratch/rdip1/smt29021/Tesaro-DNA-Damage/Data/APPROACH_Pix2PixHD//Lung/Step1_Preprocessing/ACT1_Normalise/bf_dna_16bit_lung_val_30000imgs/ --data_type 16 --batchSize 16 --checkpoints_dir /hpc/projects/upt/samuel_tonks_experimental_space/experiments/Tesaro-DNA-Damage/cuong_group_experiments/ACT2_Train/bf_dna_16bit_lung_val_30000imgs_seed42 --label_nc 0 --name bf_dna_16bit_lung_val_30000imgs_seed42 --no_instance  --resize_or_crop none --input_nc 1 --output_nc 1 --seed 42 --nThreads 1 --gpu_ids 0 --loadSize 1080 --norm instance --use_dropout  \n",
      "python /hpc/projects/upt/samuel_tonks_experimental_space/repos/gskgithub/virtual_staining/source_code/pix2pixHD_n/train_tesaro.py --dataroot /hpc/scratch/rdip1/smt29021/Tesaro-DNA-Damage/Data/APPROACH_Pix2PixHD//Lung/Step1_Preprocessing/ACT1_Normalise/bf_dna_16bit_lung_val_30000imgs/ --data_type 16 --batchSize 16 --checkpoints_dir /hpc/projects/upt/samuel_tonks_experimental_space/experiments/Tesaro-DNA-Damage/cuong_group_experiments/ACT2_Train/bf_dna_16bit_lung_val_30000imgs_seed123 --label_nc 0 --name bf_dna_16bit_lung_val_30000imgs_seed123 --no_instance  --resize_or_crop none --input_nc 1 --output_nc 1 --seed 123 --nThreads 1 --gpu_ids 0 --loadSize 1080 --norm instance --use_dropout  \n",
      "python /hpc/projects/upt/samuel_tonks_experimental_space/repos/gskgithub/virtual_staining/source_code/pix2pixHD_n/train_tesaro.py --dataroot /hpc/scratch/rdip1/smt29021/Tesaro-DNA-Damage/Data/APPROACH_Pix2PixHD//Ovarian/Step1_Preprocessing/ACT1_Normalise/bf_dna_16bit_ovarian_val_30000imgs/ --data_type 16 --batchSize 16 --checkpoints_dir /hpc/projects/upt/samuel_tonks_experimental_space/experiments/Tesaro-DNA-Damage/cuong_group_experiments/ACT2_Train/bf_dna_16bit_ovarian_val_30000imgs_seed42 --label_nc 0 --name bf_dna_16bit_ovarian_val_30000imgs_seed42 --no_instance  --resize_or_crop none --input_nc 1 --output_nc 1 --seed 42 --nThreads 1 --gpu_ids 0 --loadSize 1080 --norm instance --use_dropout  \n",
      "python /hpc/projects/upt/samuel_tonks_experimental_space/repos/gskgithub/virtual_staining/source_code/pix2pixHD_n/train_tesaro.py --dataroot /hpc/scratch/rdip1/smt29021/Tesaro-DNA-Damage/Data/APPROACH_Pix2PixHD//Ovarian/Step1_Preprocessing/ACT1_Normalise/bf_dna_16bit_ovarian_val_30000imgs/ --data_type 16 --batchSize 16 --checkpoints_dir /hpc/projects/upt/samuel_tonks_experimental_space/experiments/Tesaro-DNA-Damage/cuong_group_experiments/ACT2_Train/bf_dna_16bit_ovarian_val_30000imgs_seed123 --label_nc 0 --name bf_dna_16bit_ovarian_val_30000imgs_seed123 --no_instance  --resize_or_crop none --input_nc 1 --output_nc 1 --seed 123 --nThreads 1 --gpu_ids 0 --loadSize 1080 --norm instance --use_dropout  \n",
      "python /hpc/projects/upt/samuel_tonks_experimental_space/repos/gskgithub/virtual_staining/source_code/pix2pixHD_n/train_tesaro.py --dataroot /hpc/scratch/rdip1/smt29021/Tesaro-DNA-Damage/Data/APPROACH_Pix2PixHD//Breast/Step1_Preprocessing/ACT1_Normalise/bf_cy5_16bit_breast_val_30000imgs/ --data_type 16 --batchSize 16 --checkpoints_dir /hpc/projects/upt/samuel_tonks_experimental_space/experiments/Tesaro-DNA-Damage/cuong_group_experiments/ACT2_Train/bf_cy5_16bit_breast_val_30000imgs_seed42 --label_nc 0 --name bf_cy5_16bit_breast_val_30000imgs_seed42 --no_instance  --resize_or_crop none --input_nc 1 --output_nc 1 --seed 42 --nThreads 1 --gpu_ids 0 --loadSize 1080 --norm instance --use_dropout  \n",
      "python /hpc/projects/upt/samuel_tonks_experimental_space/repos/gskgithub/virtual_staining/source_code/pix2pixHD_n/train_tesaro.py --dataroot /hpc/scratch/rdip1/smt29021/Tesaro-DNA-Damage/Data/APPROACH_Pix2PixHD//Breast/Step1_Preprocessing/ACT1_Normalise/bf_cy5_16bit_breast_val_30000imgs/ --data_type 16 --batchSize 16 --checkpoints_dir /hpc/projects/upt/samuel_tonks_experimental_space/experiments/Tesaro-DNA-Damage/cuong_group_experiments/ACT2_Train/bf_cy5_16bit_breast_val_30000imgs_seed123 --label_nc 0 --name bf_cy5_16bit_breast_val_30000imgs_seed123 --no_instance  --resize_or_crop none --input_nc 1 --output_nc 1 --seed 123 --nThreads 1 --gpu_ids 0 --loadSize 1080 --norm instance --use_dropout  \n",
      "python /hpc/projects/upt/samuel_tonks_experimental_space/repos/gskgithub/virtual_staining/source_code/pix2pixHD_n/train_tesaro.py --dataroot /hpc/scratch/rdip1/smt29021/Tesaro-DNA-Damage/Data/APPROACH_Pix2PixHD//Lung/Step1_Preprocessing/ACT1_Normalise/bf_cy5_16bit_lung_val_30000imgs/ --data_type 16 --batchSize 16 --checkpoints_dir /hpc/projects/upt/samuel_tonks_experimental_space/experiments/Tesaro-DNA-Damage/cuong_group_experiments/ACT2_Train/bf_cy5_16bit_lung_val_30000imgs_seed42 --label_nc 0 --name bf_cy5_16bit_lung_val_30000imgs_seed42 --no_instance  --resize_or_crop none --input_nc 1 --output_nc 1 --seed 42 --nThreads 1 --gpu_ids 0 --loadSize 1080 --norm instance --use_dropout  \n",
      "python /hpc/projects/upt/samuel_tonks_experimental_space/repos/gskgithub/virtual_staining/source_code/pix2pixHD_n/train_tesaro.py --dataroot /hpc/scratch/rdip1/smt29021/Tesaro-DNA-Damage/Data/APPROACH_Pix2PixHD//Lung/Step1_Preprocessing/ACT1_Normalise/bf_cy5_16bit_lung_val_30000imgs/ --data_type 16 --batchSize 16 --checkpoints_dir /hpc/projects/upt/samuel_tonks_experimental_space/experiments/Tesaro-DNA-Damage/cuong_group_experiments/ACT2_Train/bf_cy5_16bit_lung_val_30000imgs_seed123 --label_nc 0 --name bf_cy5_16bit_lung_val_30000imgs_seed123 --no_instance  --resize_or_crop none --input_nc 1 --output_nc 1 --seed 123 --nThreads 1 --gpu_ids 0 --loadSize 1080 --norm instance --use_dropout  \n",
      "python /hpc/projects/upt/samuel_tonks_experimental_space/repos/gskgithub/virtual_staining/source_code/pix2pixHD_n/train_tesaro.py --dataroot /hpc/scratch/rdip1/smt29021/Tesaro-DNA-Damage/Data/APPROACH_Pix2PixHD//Ovarian/Step1_Preprocessing/ACT1_Normalise/bf_cy5_16bit_ovarian_val_30000imgs/ --data_type 16 --batchSize 16 --checkpoints_dir /hpc/projects/upt/samuel_tonks_experimental_space/experiments/Tesaro-DNA-Damage/cuong_group_experiments/ACT2_Train/bf_cy5_16bit_ovarian_val_30000imgs_seed42 --label_nc 0 --name bf_cy5_16bit_ovarian_val_30000imgs_seed42 --no_instance  --resize_or_crop none --input_nc 1 --output_nc 1 --seed 42 --nThreads 1 --gpu_ids 0 --loadSize 1080 --norm instance --use_dropout  \n",
      "python /hpc/projects/upt/samuel_tonks_experimental_space/repos/gskgithub/virtual_staining/source_code/pix2pixHD_n/train_tesaro.py --dataroot /hpc/scratch/rdip1/smt29021/Tesaro-DNA-Damage/Data/APPROACH_Pix2PixHD//Ovarian/Step1_Preprocessing/ACT1_Normalise/bf_cy5_16bit_ovarian_val_30000imgs/ --data_type 16 --batchSize 16 --checkpoints_dir /hpc/projects/upt/samuel_tonks_experimental_space/experiments/Tesaro-DNA-Damage/cuong_group_experiments/ACT2_Train/bf_cy5_16bit_ovarian_val_30000imgs_seed123 --label_nc 0 --name bf_cy5_16bit_ovarian_val_30000imgs_seed123 --no_instance  --resize_or_crop none --input_nc 1 --output_nc 1 --seed 123 --nThreads 1 --gpu_ids 0 --loadSize 1080 --norm instance --use_dropout  \n",
      "python /hpc/projects/upt/samuel_tonks_experimental_space/repos/gskgithub/virtual_staining/source_code/pix2pixHD_n/train_tesaro.py --dataroot /hpc/scratch/rdip1/smt29021/Tesaro-DNA-Damage/Data/APPROACH_Pix2PixHD//Breast/Step1_Preprocessing/ACT1_Normalise/bf_fitc_16bit_breast_val_30000imgs/ --data_type 16 --batchSize 16 --checkpoints_dir /hpc/projects/upt/samuel_tonks_experimental_space/experiments/Tesaro-DNA-Damage/cuong_group_experiments/ACT2_Train/bf_fitc_16bit_breast_val_30000imgs_seed42 --label_nc 0 --name bf_fitc_16bit_breast_val_30000imgs_seed42 --no_instance  --resize_or_crop none --input_nc 1 --output_nc 1 --seed 42 --nThreads 1 --gpu_ids 0 --loadSize 1080 --norm instance --use_dropout  \n",
      "python /hpc/projects/upt/samuel_tonks_experimental_space/repos/gskgithub/virtual_staining/source_code/pix2pixHD_n/train_tesaro.py --dataroot /hpc/scratch/rdip1/smt29021/Tesaro-DNA-Damage/Data/APPROACH_Pix2PixHD//Breast/Step1_Preprocessing/ACT1_Normalise/bf_fitc_16bit_breast_val_30000imgs/ --data_type 16 --batchSize 16 --checkpoints_dir /hpc/projects/upt/samuel_tonks_experimental_space/experiments/Tesaro-DNA-Damage/cuong_group_experiments/ACT2_Train/bf_fitc_16bit_breast_val_30000imgs_seed123 --label_nc 0 --name bf_fitc_16bit_breast_val_30000imgs_seed123 --no_instance  --resize_or_crop none --input_nc 1 --output_nc 1 --seed 123 --nThreads 1 --gpu_ids 0 --loadSize 1080 --norm instance --use_dropout  \n",
      "python /hpc/projects/upt/samuel_tonks_experimental_space/repos/gskgithub/virtual_staining/source_code/pix2pixHD_n/train_tesaro.py --dataroot /hpc/scratch/rdip1/smt29021/Tesaro-DNA-Damage/Data/APPROACH_Pix2PixHD//Lung/Step1_Preprocessing/ACT1_Normalise/bf_fitc_16bit_lung_val_30000imgs/ --data_type 16 --batchSize 16 --checkpoints_dir /hpc/projects/upt/samuel_tonks_experimental_space/experiments/Tesaro-DNA-Damage/cuong_group_experiments/ACT2_Train/bf_fitc_16bit_lung_val_30000imgs_seed42 --label_nc 0 --name bf_fitc_16bit_lung_val_30000imgs_seed42 --no_instance  --resize_or_crop none --input_nc 1 --output_nc 1 --seed 42 --nThreads 1 --gpu_ids 0 --loadSize 1080 --norm instance --use_dropout  \n",
      "python /hpc/projects/upt/samuel_tonks_experimental_space/repos/gskgithub/virtual_staining/source_code/pix2pixHD_n/train_tesaro.py --dataroot /hpc/scratch/rdip1/smt29021/Tesaro-DNA-Damage/Data/APPROACH_Pix2PixHD//Lung/Step1_Preprocessing/ACT1_Normalise/bf_fitc_16bit_lung_val_30000imgs/ --data_type 16 --batchSize 16 --checkpoints_dir /hpc/projects/upt/samuel_tonks_experimental_space/experiments/Tesaro-DNA-Damage/cuong_group_experiments/ACT2_Train/bf_fitc_16bit_lung_val_30000imgs_seed123 --label_nc 0 --name bf_fitc_16bit_lung_val_30000imgs_seed123 --no_instance  --resize_or_crop none --input_nc 1 --output_nc 1 --seed 123 --nThreads 1 --gpu_ids 0 --loadSize 1080 --norm instance --use_dropout  \n",
      "python /hpc/projects/upt/samuel_tonks_experimental_space/repos/gskgithub/virtual_staining/source_code/pix2pixHD_n/train_tesaro.py --dataroot /hpc/scratch/rdip1/smt29021/Tesaro-DNA-Damage/Data/APPROACH_Pix2PixHD//Ovarian/Step1_Preprocessing/ACT1_Normalise/bf_fitc_16bit_ovarian_val_30000imgs/ --data_type 16 --batchSize 16 --checkpoints_dir /hpc/projects/upt/samuel_tonks_experimental_space/experiments/Tesaro-DNA-Damage/cuong_group_experiments/ACT2_Train/bf_fitc_16bit_ovarian_val_30000imgs_seed42 --label_nc 0 --name bf_fitc_16bit_ovarian_val_30000imgs_seed42 --no_instance  --resize_or_crop none --input_nc 1 --output_nc 1 --seed 42 --nThreads 1 --gpu_ids 0 --loadSize 1080 --norm instance --use_dropout  \n",
      "python /hpc/projects/upt/samuel_tonks_experimental_space/repos/gskgithub/virtual_staining/source_code/pix2pixHD_n/train_tesaro.py --dataroot /hpc/scratch/rdip1/smt29021/Tesaro-DNA-Damage/Data/APPROACH_Pix2PixHD//Ovarian/Step1_Preprocessing/ACT1_Normalise/bf_fitc_16bit_ovarian_val_30000imgs/ --data_type 16 --batchSize 16 --checkpoints_dir /hpc/projects/upt/samuel_tonks_experimental_space/experiments/Tesaro-DNA-Damage/cuong_group_experiments/ACT2_Train/bf_fitc_16bit_ovarian_val_30000imgs_seed123 --label_nc 0 --name bf_fitc_16bit_ovarian_val_30000imgs_seed123 --no_instance  --resize_or_crop none --input_nc 1 --output_nc 1 --seed 123 --nThreads 1 --gpu_ids 0 --loadSize 1080 --norm instance --use_dropout  \n"
     ]
    }
   ],
   "source": [
    "stains = ['dna','Cy5','FITC']\n",
    "celltypes = ['Breast','Lung','Ovarian']\n",
    "phentypes = ['nontoxic', 'toxic']\n",
    "for stain in stains:\n",
    "    for celltype in celltypes:\n",
    "        # Define a model name\n",
    "        model_name = f'bf_{stain.lower()}_16bit_{celltype.lower()}_val_30000imgs' #'dapi_HE_run_32float'\n",
    "        # Path for conda environment \n",
    "        conda_path = os.path.join(\n",
    "            '/hpc/user_apps/bioimaging_analytics/conda_environments/pix2pixHD_CUDA11',\n",
    "        #     'pytorch_1.8.1_py3.7',\n",
    "        )\n",
    "\n",
    "        # Path for location of source code\n",
    "        repo_path = os.path.join(\n",
    "            '/hpc/projects/upt/samuel_tonks_experimental_space/repos/gskgithub/virtual_staining/source_code/pix2pixHD_n/train_tesaro.py')\n",
    "    \n",
    "        dataroot = os.path.join(\n",
    "            f'/hpc/scratch/rdip1/smt29021/Tesaro-DNA-Damage/Data/APPROACH_Pix2PixHD//{celltype}/Step1_Preprocessing/ACT1_Normalise/bf_{stain.lower()}_16bit_{celltype.lower()}_val_30000imgs/')\n",
    "        # Path for saving training outputs including weights and validation scores\n",
    "        output_dir = os.path.join(\n",
    "            '/hpc/projects/upt/samuel_tonks_experimental_space/experiments/Tesaro-DNA-Damage/cuong_group_experiments/ACT2_Train/',\n",
    "        #     'APPROACH_Pix2PixHD',\n",
    "        #     cell_type,\n",
    "        #     'Step1_Preprocessing',\n",
    "        #     'ACT2_Train',\n",
    "#             model_name,\n",
    "        )\n",
    "\n",
    "        # Path for chosen training file see source code for explanation of files to choose from.\n",
    "        py_file = os.path.join(\n",
    "            repo_path,\n",
    "#             'train_16bit.py'\n",
    "        )\n",
    "        for seed in ['42','123']:\n",
    "            arg_dict = {}\n",
    "            arg_dict['--dataroot'] = dataroot\n",
    "            arg_dict['--data_type'] = '16'\n",
    "            arg_dict['--batchSize'] = '16'\n",
    "            arg_dict['--checkpoints_dir'] = os.path.join(output_dir,f'{model_name}_seed{seed}') \n",
    "            arg_dict['--label_nc'] = '0'\n",
    "            arg_dict['--name'] = f'{model_name}_seed{seed}'\n",
    "            arg_dict['--no_instance'] = ''\n",
    "            arg_dict['--resize_or_crop'] = 'none'\n",
    "            arg_dict['--input_nc'] = '1'\n",
    "            arg_dict['--output_nc'] = '1'\n",
    "            arg_dict['--seed'] = seed\n",
    "\n",
    "            # arg_dict['--no_vgg_loss'] = ''\n",
    "            arg_dict['--nThreads'] = '1'\n",
    "            arg_dict['--gpu_ids'] = '0'\n",
    "            arg_dict['--loadSize'] = '1080'\n",
    "            # arg_dict['--ndf'] = '32'\n",
    "            arg_dict['--norm'] = 'instance'\n",
    "            arg_dict['--use_dropout'] = ''\n",
    "            # arg_dict['--dropout_variation_inf'] = 'False'\n",
    "            ## APEX Training only\n",
    "            # arg_dict['--fp16'] = '' \n",
    "\n",
    "            ## Used only is retraining from epoch\n",
    "            # arg_dict['--continue_train'] = ''\n",
    "            # arg_dict['--which_epoch'] = 'latest'\n",
    "            command = train_pix2pixHD(\n",
    "                py_file,\n",
    "                arg_dict\n",
    "            )\n",
    "            command_list.append(command)\n",
    "            print(command)"
   ]
  },
  {
   "cell_type": "code",
   "execution_count": 6,
   "metadata": {},
   "outputs": [
    {
     "data": {
      "text/plain": [
       "18"
      ]
     },
     "execution_count": 6,
     "metadata": {},
     "output_type": "execute_result"
    }
   ],
   "source": [
    "len(command_list)"
   ]
  },
  {
   "cell_type": "code",
   "execution_count": 17,
   "metadata": {},
   "outputs": [],
   "source": [
    "import json\n",
    "with open(os.path.join(output_dir,'notoxic_phenotype_train_runs.json'), 'w', encoding= 'utf-8') as f:\n",
    "    json.dump(command_list, f, ensure_ascii=False, indent=4)"
   ]
  },
  {
   "cell_type": "code",
   "execution_count": 18,
   "metadata": {},
   "outputs": [
    {
     "data": {
      "text/plain": [
       "['python /hpc/projects/upt/samuel_tonks_experimental_space/repos/gskgithub/virtual_staining/source_code/pix2pixHD_n/train_tesaro.py --dataroot /hpc/projects/upt/samuel_tonks_experimental_space/datasets/Tesaro-DNA-Damage/CellProfiler_Wells/nontoxic/Ovarian/bf_fitc_16bit_nontoxic/ --data_type 16 --batchSize 16 --checkpoints_dir /hpc/projects/upt/samuel_tonks_experimental_space/experiments/Tesaro-DNA-Damage/cuong_group_experiments/ACT2_Train/bf_fitc_30k_nontoxic_seed123 --label_nc 0 --name bf_fitc_30k_nontoxic_seed123 --no_instance  --resize_or_crop none --input_nc 1 --output_nc 1 --seed 123 --nThreads 1 --gpu_ids 0 --loadSize 1080 --norm instance --use_dropout  ',\n",
       " 'python /hpc/projects/upt/samuel_tonks_experimental_space/repos/gskgithub/virtual_staining/source_code/pix2pixHD_n/train_tesaro.py --dataroot /hpc/projects/upt/samuel_tonks_experimental_space/datasets/Tesaro-DNA-Damage/CellProfiler_Wells/nontoxic/Breast/bf_dna_30k_nontoxic/ --data_type 16 --batchSize 16 --checkpoints_dir /hpc/projects/upt/samuel_tonks_experimental_space/experiments/Tesaro-DNA-Damage/cuong_group_experiments/ACT2_Train/bf_dna_30k_nontoxic_seed42 --label_nc 0 --name bf_dna_30k_nontoxic_seed42 --no_instance  --resize_or_crop none --input_nc 1 --output_nc 1 --seed 42 --nThreads 1 --gpu_ids 0 --loadSize 1080 --norm instance --use_dropout  ',\n",
       " 'python /hpc/projects/upt/samuel_tonks_experimental_space/repos/gskgithub/virtual_staining/source_code/pix2pixHD_n/train_tesaro.py --dataroot /hpc/projects/upt/samuel_tonks_experimental_space/datasets/Tesaro-DNA-Damage/CellProfiler_Wells/nontoxic/Breast/bf_dna_30k_nontoxic/ --data_type 16 --batchSize 16 --checkpoints_dir /hpc/projects/upt/samuel_tonks_experimental_space/experiments/Tesaro-DNA-Damage/cuong_group_experiments/ACT2_Train/bf_dna_30k_nontoxic_seed123 --label_nc 0 --name bf_dna_30k_nontoxic_seed123 --no_instance  --resize_or_crop none --input_nc 1 --output_nc 1 --seed 123 --nThreads 1 --gpu_ids 0 --loadSize 1080 --norm instance --use_dropout  ',\n",
       " 'python /hpc/projects/upt/samuel_tonks_experimental_space/repos/gskgithub/virtual_staining/source_code/pix2pixHD_n/train_tesaro.py --dataroot /hpc/projects/upt/samuel_tonks_experimental_space/datasets/Tesaro-DNA-Damage/CellProfiler_Wells/nontoxic/Lung/bf_dna_30k_nontoxic/ --data_type 16 --batchSize 16 --checkpoints_dir /hpc/projects/upt/samuel_tonks_experimental_space/experiments/Tesaro-DNA-Damage/cuong_group_experiments/ACT2_Train/bf_dna_30k_nontoxic_seed42 --label_nc 0 --name bf_dna_30k_nontoxic_seed42 --no_instance  --resize_or_crop none --input_nc 1 --output_nc 1 --seed 42 --nThreads 1 --gpu_ids 0 --loadSize 1080 --norm instance --use_dropout  ',\n",
       " 'python /hpc/projects/upt/samuel_tonks_experimental_space/repos/gskgithub/virtual_staining/source_code/pix2pixHD_n/train_tesaro.py --dataroot /hpc/projects/upt/samuel_tonks_experimental_space/datasets/Tesaro-DNA-Damage/CellProfiler_Wells/nontoxic/Lung/bf_dna_30k_nontoxic/ --data_type 16 --batchSize 16 --checkpoints_dir /hpc/projects/upt/samuel_tonks_experimental_space/experiments/Tesaro-DNA-Damage/cuong_group_experiments/ACT2_Train/bf_dna_30k_nontoxic_seed123 --label_nc 0 --name bf_dna_30k_nontoxic_seed123 --no_instance  --resize_or_crop none --input_nc 1 --output_nc 1 --seed 123 --nThreads 1 --gpu_ids 0 --loadSize 1080 --norm instance --use_dropout  ',\n",
       " 'python /hpc/projects/upt/samuel_tonks_experimental_space/repos/gskgithub/virtual_staining/source_code/pix2pixHD_n/train_tesaro.py --dataroot /hpc/projects/upt/samuel_tonks_experimental_space/datasets/Tesaro-DNA-Damage/CellProfiler_Wells/nontoxic/Ovarian/bf_dna_30k_nontoxic/ --data_type 16 --batchSize 16 --checkpoints_dir /hpc/projects/upt/samuel_tonks_experimental_space/experiments/Tesaro-DNA-Damage/cuong_group_experiments/ACT2_Train/bf_dna_30k_nontoxic_seed42 --label_nc 0 --name bf_dna_30k_nontoxic_seed42 --no_instance  --resize_or_crop none --input_nc 1 --output_nc 1 --seed 42 --nThreads 1 --gpu_ids 0 --loadSize 1080 --norm instance --use_dropout  ',\n",
       " 'python /hpc/projects/upt/samuel_tonks_experimental_space/repos/gskgithub/virtual_staining/source_code/pix2pixHD_n/train_tesaro.py --dataroot /hpc/projects/upt/samuel_tonks_experimental_space/datasets/Tesaro-DNA-Damage/CellProfiler_Wells/nontoxic/Ovarian/bf_dna_30k_nontoxic/ --data_type 16 --batchSize 16 --checkpoints_dir /hpc/projects/upt/samuel_tonks_experimental_space/experiments/Tesaro-DNA-Damage/cuong_group_experiments/ACT2_Train/bf_dna_30k_nontoxic_seed123 --label_nc 0 --name bf_dna_30k_nontoxic_seed123 --no_instance  --resize_or_crop none --input_nc 1 --output_nc 1 --seed 123 --nThreads 1 --gpu_ids 0 --loadSize 1080 --norm instance --use_dropout  ',\n",
       " 'python /hpc/projects/upt/samuel_tonks_experimental_space/repos/gskgithub/virtual_staining/source_code/pix2pixHD_n/train_tesaro.py --dataroot /hpc/projects/upt/samuel_tonks_experimental_space/datasets/Tesaro-DNA-Damage/CellProfiler_Wells/nontoxic/Breast/bf_cy5_30k_nontoxic/ --data_type 16 --batchSize 16 --checkpoints_dir /hpc/projects/upt/samuel_tonks_experimental_space/experiments/Tesaro-DNA-Damage/cuong_group_experiments/ACT2_Train/bf_cy5_30k_nontoxic_seed42 --label_nc 0 --name bf_cy5_30k_nontoxic_seed42 --no_instance  --resize_or_crop none --input_nc 1 --output_nc 1 --seed 42 --nThreads 1 --gpu_ids 0 --loadSize 1080 --norm instance --use_dropout  ',\n",
       " 'python /hpc/projects/upt/samuel_tonks_experimental_space/repos/gskgithub/virtual_staining/source_code/pix2pixHD_n/train_tesaro.py --dataroot /hpc/projects/upt/samuel_tonks_experimental_space/datasets/Tesaro-DNA-Damage/CellProfiler_Wells/nontoxic/Breast/bf_cy5_30k_nontoxic/ --data_type 16 --batchSize 16 --checkpoints_dir /hpc/projects/upt/samuel_tonks_experimental_space/experiments/Tesaro-DNA-Damage/cuong_group_experiments/ACT2_Train/bf_cy5_30k_nontoxic_seed123 --label_nc 0 --name bf_cy5_30k_nontoxic_seed123 --no_instance  --resize_or_crop none --input_nc 1 --output_nc 1 --seed 123 --nThreads 1 --gpu_ids 0 --loadSize 1080 --norm instance --use_dropout  ',\n",
       " 'python /hpc/projects/upt/samuel_tonks_experimental_space/repos/gskgithub/virtual_staining/source_code/pix2pixHD_n/train_tesaro.py --dataroot /hpc/projects/upt/samuel_tonks_experimental_space/datasets/Tesaro-DNA-Damage/CellProfiler_Wells/nontoxic/Lung/bf_cy5_30k_nontoxic/ --data_type 16 --batchSize 16 --checkpoints_dir /hpc/projects/upt/samuel_tonks_experimental_space/experiments/Tesaro-DNA-Damage/cuong_group_experiments/ACT2_Train/bf_cy5_30k_nontoxic_seed42 --label_nc 0 --name bf_cy5_30k_nontoxic_seed42 --no_instance  --resize_or_crop none --input_nc 1 --output_nc 1 --seed 42 --nThreads 1 --gpu_ids 0 --loadSize 1080 --norm instance --use_dropout  ',\n",
       " 'python /hpc/projects/upt/samuel_tonks_experimental_space/repos/gskgithub/virtual_staining/source_code/pix2pixHD_n/train_tesaro.py --dataroot /hpc/projects/upt/samuel_tonks_experimental_space/datasets/Tesaro-DNA-Damage/CellProfiler_Wells/nontoxic/Lung/bf_cy5_30k_nontoxic/ --data_type 16 --batchSize 16 --checkpoints_dir /hpc/projects/upt/samuel_tonks_experimental_space/experiments/Tesaro-DNA-Damage/cuong_group_experiments/ACT2_Train/bf_cy5_30k_nontoxic_seed123 --label_nc 0 --name bf_cy5_30k_nontoxic_seed123 --no_instance  --resize_or_crop none --input_nc 1 --output_nc 1 --seed 123 --nThreads 1 --gpu_ids 0 --loadSize 1080 --norm instance --use_dropout  ',\n",
       " 'python /hpc/projects/upt/samuel_tonks_experimental_space/repos/gskgithub/virtual_staining/source_code/pix2pixHD_n/train_tesaro.py --dataroot /hpc/projects/upt/samuel_tonks_experimental_space/datasets/Tesaro-DNA-Damage/CellProfiler_Wells/nontoxic/Ovarian/bf_cy5_30k_nontoxic/ --data_type 16 --batchSize 16 --checkpoints_dir /hpc/projects/upt/samuel_tonks_experimental_space/experiments/Tesaro-DNA-Damage/cuong_group_experiments/ACT2_Train/bf_cy5_30k_nontoxic_seed42 --label_nc 0 --name bf_cy5_30k_nontoxic_seed42 --no_instance  --resize_or_crop none --input_nc 1 --output_nc 1 --seed 42 --nThreads 1 --gpu_ids 0 --loadSize 1080 --norm instance --use_dropout  ',\n",
       " 'python /hpc/projects/upt/samuel_tonks_experimental_space/repos/gskgithub/virtual_staining/source_code/pix2pixHD_n/train_tesaro.py --dataroot /hpc/projects/upt/samuel_tonks_experimental_space/datasets/Tesaro-DNA-Damage/CellProfiler_Wells/nontoxic/Ovarian/bf_cy5_30k_nontoxic/ --data_type 16 --batchSize 16 --checkpoints_dir /hpc/projects/upt/samuel_tonks_experimental_space/experiments/Tesaro-DNA-Damage/cuong_group_experiments/ACT2_Train/bf_cy5_30k_nontoxic_seed123 --label_nc 0 --name bf_cy5_30k_nontoxic_seed123 --no_instance  --resize_or_crop none --input_nc 1 --output_nc 1 --seed 123 --nThreads 1 --gpu_ids 0 --loadSize 1080 --norm instance --use_dropout  ',\n",
       " 'python /hpc/projects/upt/samuel_tonks_experimental_space/repos/gskgithub/virtual_staining/source_code/pix2pixHD_n/train_tesaro.py --dataroot /hpc/projects/upt/samuel_tonks_experimental_space/datasets/Tesaro-DNA-Damage/CellProfiler_Wells/nontoxic/Breast/bf_fitc_30k_nontoxic/ --data_type 16 --batchSize 16 --checkpoints_dir /hpc/projects/upt/samuel_tonks_experimental_space/experiments/Tesaro-DNA-Damage/cuong_group_experiments/ACT2_Train/bf_fitc_30k_nontoxic_seed42 --label_nc 0 --name bf_fitc_30k_nontoxic_seed42 --no_instance  --resize_or_crop none --input_nc 1 --output_nc 1 --seed 42 --nThreads 1 --gpu_ids 0 --loadSize 1080 --norm instance --use_dropout  ',\n",
       " 'python /hpc/projects/upt/samuel_tonks_experimental_space/repos/gskgithub/virtual_staining/source_code/pix2pixHD_n/train_tesaro.py --dataroot /hpc/projects/upt/samuel_tonks_experimental_space/datasets/Tesaro-DNA-Damage/CellProfiler_Wells/nontoxic/Breast/bf_fitc_30k_nontoxic/ --data_type 16 --batchSize 16 --checkpoints_dir /hpc/projects/upt/samuel_tonks_experimental_space/experiments/Tesaro-DNA-Damage/cuong_group_experiments/ACT2_Train/bf_fitc_30k_nontoxic_seed123 --label_nc 0 --name bf_fitc_30k_nontoxic_seed123 --no_instance  --resize_or_crop none --input_nc 1 --output_nc 1 --seed 123 --nThreads 1 --gpu_ids 0 --loadSize 1080 --norm instance --use_dropout  ',\n",
       " 'python /hpc/projects/upt/samuel_tonks_experimental_space/repos/gskgithub/virtual_staining/source_code/pix2pixHD_n/train_tesaro.py --dataroot /hpc/projects/upt/samuel_tonks_experimental_space/datasets/Tesaro-DNA-Damage/CellProfiler_Wells/nontoxic/Lung/bf_fitc_30k_nontoxic/ --data_type 16 --batchSize 16 --checkpoints_dir /hpc/projects/upt/samuel_tonks_experimental_space/experiments/Tesaro-DNA-Damage/cuong_group_experiments/ACT2_Train/bf_fitc_30k_nontoxic_seed42 --label_nc 0 --name bf_fitc_30k_nontoxic_seed42 --no_instance  --resize_or_crop none --input_nc 1 --output_nc 1 --seed 42 --nThreads 1 --gpu_ids 0 --loadSize 1080 --norm instance --use_dropout  ',\n",
       " 'python /hpc/projects/upt/samuel_tonks_experimental_space/repos/gskgithub/virtual_staining/source_code/pix2pixHD_n/train_tesaro.py --dataroot /hpc/projects/upt/samuel_tonks_experimental_space/datasets/Tesaro-DNA-Damage/CellProfiler_Wells/nontoxic/Lung/bf_fitc_30k_nontoxic/ --data_type 16 --batchSize 16 --checkpoints_dir /hpc/projects/upt/samuel_tonks_experimental_space/experiments/Tesaro-DNA-Damage/cuong_group_experiments/ACT2_Train/bf_fitc_30k_nontoxic_seed123 --label_nc 0 --name bf_fitc_30k_nontoxic_seed123 --no_instance  --resize_or_crop none --input_nc 1 --output_nc 1 --seed 123 --nThreads 1 --gpu_ids 0 --loadSize 1080 --norm instance --use_dropout  ',\n",
       " 'python /hpc/projects/upt/samuel_tonks_experimental_space/repos/gskgithub/virtual_staining/source_code/pix2pixHD_n/train_tesaro.py --dataroot /hpc/projects/upt/samuel_tonks_experimental_space/datasets/Tesaro-DNA-Damage/CellProfiler_Wells/nontoxic/Ovarian/bf_fitc_30k_nontoxic/ --data_type 16 --batchSize 16 --checkpoints_dir /hpc/projects/upt/samuel_tonks_experimental_space/experiments/Tesaro-DNA-Damage/cuong_group_experiments/ACT2_Train/bf_fitc_30k_nontoxic_seed42 --label_nc 0 --name bf_fitc_30k_nontoxic_seed42 --no_instance  --resize_or_crop none --input_nc 1 --output_nc 1 --seed 42 --nThreads 1 --gpu_ids 0 --loadSize 1080 --norm instance --use_dropout  ',\n",
       " 'python /hpc/projects/upt/samuel_tonks_experimental_space/repos/gskgithub/virtual_staining/source_code/pix2pixHD_n/train_tesaro.py --dataroot /hpc/projects/upt/samuel_tonks_experimental_space/datasets/Tesaro-DNA-Damage/CellProfiler_Wells/nontoxic/Ovarian/bf_fitc_30k_nontoxic/ --data_type 16 --batchSize 16 --checkpoints_dir /hpc/projects/upt/samuel_tonks_experimental_space/experiments/Tesaro-DNA-Damage/cuong_group_experiments/ACT2_Train/bf_fitc_30k_nontoxic_seed123 --label_nc 0 --name bf_fitc_30k_nontoxic_seed123 --no_instance  --resize_or_crop none --input_nc 1 --output_nc 1 --seed 123 --nThreads 1 --gpu_ids 0 --loadSize 1080 --norm instance --use_dropout  ']"
      ]
     },
     "execution_count": 18,
     "metadata": {},
     "output_type": "execute_result"
    }
   ],
   "source": [
    "x = open(os.path.join(output_dir,'notoxic_phenotype_train_runs.json'))\n",
    "data = json.load(x)\n",
    "data"
   ]
  },
  {
   "cell_type": "markdown",
   "metadata": {},
   "source": [
    "### Update model hyper-paramters\n",
    "\n",
    "See source_code/pix2pixhd/ for full explanation of each of the below hyper-parameters. \n",
    "\n",
    "#### Must update\n",
    "- **'--dataroot'**: path/to/folder/containing/train_A </br>\n",
    "- **'--data_type'**: Bit of input images. Either 8 or 16 "
   ]
  },
  {
   "cell_type": "code",
   "execution_count": null,
   "metadata": {},
   "outputs": [],
   "source": []
  },
  {
   "cell_type": "code",
   "execution_count": 63,
   "metadata": {},
   "outputs": [],
   "source": [
    "for seed in ['42','123']:\n",
    "    arg_dict = {}\n",
    "    arg_dict['--dataroot'] = os.path.join(dataroot\n",
    "    )\n",
    "    arg_dict['--data_type'] = '16'\n",
    "    arg_dict['--batchSize'] = '4'\n",
    "    arg_dict['--checkpoints_dir'] = output_dir \n",
    "    arg_dict['--label_nc'] = '0'\n",
    "    arg_dict['--name'] = model_name\n",
    "    arg_dict['--no_instance'] = ''\n",
    "    arg_dict['--resize_or_crop'] = 'none'\n",
    "    arg_dict['--input_nc'] = '1'\n",
    "    arg_dict['--output_nc'] = '1'\n",
    "    arg_dict['--seed'] = seed\n",
    "\n",
    "    # arg_dict['--no_vgg_loss'] = ''\n",
    "    arg_dict['--nThreads'] = '1'\n",
    "    arg_dict['--gpu_ids'] = '0'\n",
    "    arg_dict['--loadSize'] = '1080'\n",
    "    # arg_dict['--ndf'] = '32'\n",
    "    arg_dict['--norm'] = 'instance'\n",
    "    arg_dict['--use_dropout'] = ''\n",
    "    # arg_dict['--dropout_variation_inf'] = 'False'\n",
    "    ## APEX Training only\n",
    "    # arg_dict['--fp16'] = '' \n",
    "\n",
    "    ## Used only is retraining from epoch\n",
    "    # arg_dict['--continue_train'] = ''\n",
    "    # arg_dict['--which_epoch'] = 'latest'\n",
    "    command = train_pix2pixHD(\n",
    "        py_file,\n",
    "        arg_dict\n",
    "    )\n",
    "    command_list = []\n",
    "    command_list.append(command)\n",
    "    print(command)"
   ]
  },
  {
   "cell_type": "markdown",
   "metadata": {},
   "source": [
    "### Generate  and run slurm command"
   ]
  },
  {
   "cell_type": "code",
   "execution_count": 25,
   "metadata": {
    "scrolled": true
   },
   "outputs": [
    {
     "name": "stdout",
     "output_type": "stream",
     "text": [
      "python /hpc/projects/upt/samuel_tonks_experimental_space/repos/gskgithub/virtual_staining/source_code/pix2pixHD_n/train_tesaro.py --dataroot /hpc/projects/upt/samuel_tonks_experimental_space/datasets/Tesaro-DNA-Damage/Data/Ovarian/Step1_Preprocessing/ACT1_Normalise/bf_fitc_30k_nontoxic/ --data_type 16 --batchSize 16 --checkpoints_dir /hpc/projects/upt/samuel_tonks_experimental_space/experiments/Tesaro-DNA-Damage/cuong_group_experiments/ACT2_Train/bf_fitc_30k_nontoxic_seed123 --label_nc 0 --name bf_fitc_30k_nontoxic_seed123 --no_instance  --resize_or_crop none --input_nc 1 --output_nc 1 --seed 123 --nThreads 1 --gpu_ids 0 --loadSize 1080 --norm instance --use_dropout  \n"
     ]
    }
   ],
   "source": [
    "command = train_pix2pixHD(\n",
    "    py_file,\n",
    "    arg_dict\n",
    ")\n",
    "command_list = []\n",
    "command_list.append(command)\n",
    "print(command)"
   ]
  },
  {
   "cell_type": "code",
   "execution_count": 32,
   "metadata": {},
   "outputs": [
    {
     "name": "stdout",
     "output_type": "stream",
     "text": [
      "Submitted batch job 61836610\n",
      "\n"
     ]
    },
    {
     "data": {
      "text/plain": [
       "'Submitted batch job 61836610\\n'"
      ]
     },
     "execution_count": 32,
     "metadata": {},
     "output_type": "execute_result"
    }
   ],
   "source": [
    "### Job Settings ###\n",
    "job_name = '{}'.format(model_name)\n",
    "\n",
    "node_setting = ''\n",
    "node_setting = node_setting+' --job-name={}'.format(job_name)\n",
    "node_setting = node_setting+' --time=10:00:00'\n",
    "node_setting = node_setting+' --nodes=1'\n",
    "# node_setting = node_setting+' --dependency=afterok:{}'.format('43523352')\n",
    "\n",
    "node_setting = node_setting+' --partition=gpu'\n",
    "node_setting = node_setting+' --gres=gpu:a6000:1'\n",
    "node_setting = node_setting+' --ntasks-per-node=1'\n",
    "node_setting = node_setting+' --output=./slurm_outs/\"slurm-%A_%a.out\"'\n",
    "node_setting = node_setting[1:]\n",
    "\n",
    "os.makedirs('./slurm_outs', exist_ok=True)\n",
    "\n",
    "submit_array(root_dir, command_list, node_setting, job_name,repo_path, conda_path)"
   ]
  },
  {
   "cell_type": "code",
   "execution_count": 28,
   "metadata": {},
   "outputs": [
    {
     "data": {
      "text/plain": [
       "['python /hpc/projects/upt/samuel_tonks_experimental_space/repos/gskgithub/virtual_staining/source_code/pix2pixHD_n/train_tesaro.py --dataroot /hpc/projects/upt/samuel_tonks_experimental_space/datasets/Tesaro-DNA-Damage/Data/Ovarian/Step1_Preprocessing/ACT1_Normalise/bf_fitc_30k_nontoxic/ --data_type 16 --batchSize 16 --checkpoints_dir /hpc/projects/upt/samuel_tonks_experimental_space/experiments/Tesaro-DNA-Damage/cuong_group_experiments/ACT2_Train/bf_fitc_30k_nontoxic_seed123 --label_nc 0 --name bf_fitc_30k_nontoxic_seed123 --no_instance  --resize_or_crop none --input_nc 1 --output_nc 1 --seed 123 --nThreads 1 --gpu_ids 0 --loadSize 1080 --norm instance --use_dropout  ']"
      ]
     },
     "execution_count": 28,
     "metadata": {},
     "output_type": "execute_result"
    }
   ],
   "source": [
    "command_list"
   ]
  },
  {
   "cell_type": "code",
   "execution_count": null,
   "metadata": {},
   "outputs": [],
   "source": []
  }
 ],
 "metadata": {
  "kernelspec": {
   "display_name": "py_3.7_notebook",
   "language": "python",
   "name": "py_3.7_notebook"
  },
  "language_info": {
   "codemirror_mode": {
    "name": "ipython",
    "version": 3
   },
   "file_extension": ".py",
   "mimetype": "text/x-python",
   "name": "python",
   "nbconvert_exporter": "python",
   "pygments_lexer": "ipython3",
   "version": "3.6.13"
  }
 },
 "nbformat": 4,
 "nbformat_minor": 2
}
